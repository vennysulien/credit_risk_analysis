{
 "cells": [
  {
   "cell_type": "markdown",
   "id": "b2231e23-8c37-4ccd-b9c2-6c6a9d871692",
   "metadata": {},
   "source": [
    "# <font color='blue'>**1. Business Understanding**</font>\r\n",
    "---"
   ]
  },
  {
   "cell_type": "markdown",
   "id": "c87eca64-beed-4ebe-aa3a-186f6ec9a6d7",
   "metadata": {},
   "source": [
    "Bank XYZ is experiencing a growing number of loan defaults and must enhance its credit risk modeling to more accurately anticipate customers who might default on their loans in the future.k."
   ]
  },
  {
   "cell_type": "markdown",
   "id": "b023f5d5-8a3d-4d35-8bd0-1a51c8732cb6",
   "metadata": {},
   "source": [
    "### **Business Objective**\n",
    "---\n",
    "\n",
    "The objective is to precisely detect high-risk loans, allowing for actions like raising interest rates or rejecting loan applications, ultimately leading to reduced overall risk and improved profitability for the bank."
   ]
  },
  {
   "cell_type": "markdown",
   "id": "093ab152-856b-4faf-96c0-1e551c020f5e",
   "metadata": {},
   "source": [
    "# **<font color='Blue'>2. Imports </font>**\r\n",
    "---"
   ]
  },
  {
   "cell_type": "code",
   "execution_count": 19,
   "id": "e2492b0f-a2a3-4e7e-8f04-e9ae070f2aac",
   "metadata": {},
   "outputs": [],
   "source": [
    "# Load data manipulation package\n",
    "import numpy as np\n",
    "import pandas as pd\n",
    "\n",
    "# Load data visualization package\n",
    "import matplotlib.pyplot as plt\n",
    "import seaborn as sns"
   ]
  },
  {
   "cell_type": "markdown",
   "id": "ff72cac0-8068-4b8f-aa5c-61c82f7cd598",
   "metadata": {},
   "source": [
    "# <font color='Blue'> **3. Importing data to Python** </font>\n",
    "---"
   ]
  },
  {
   "cell_type": "markdown",
   "id": "93dc53c2-f9b3-4b48-a136-2b9125bc2e74",
   "metadata": {},
   "source": [
    "## **3.1 Import Data**\n",
    "---"
   ]
  },
  {
   "cell_type": "markdown",
   "id": "0852566b-7ab3-4843-b2f7-42243f12d3bb",
   "metadata": {},
   "source": [
    "The sample we will use in this example is a fictive datasets from Development of Credit Risk Model & Scorecard.(https://www.kaggle.com/code/somyaagarwal69/development-of-credit-risk-model-scorecard/notebook).\n",
    "\n",
    "We have one dataset contains the personal information of debtors and the credit performance of debtors.\n",
    "We don't have the target or response variable in this sample.\n",
    "\n",
    "Therefore, we have to assign the response variable according to our definition of 'bad' credit performance."
   ]
  },
  {
   "cell_type": "code",
   "execution_count": 20,
   "id": "fc8d5c7a-da61-4966-854f-b6bf3f825737",
   "metadata": {},
   "outputs": [
    {
     "name": "stdout",
     "output_type": "stream",
     "text": [
      "(421094, 74)\n"
     ]
    }
   ],
   "source": [
    "# Input csv_path\n",
    "csv_path = 'loan_data_2015.csv'\n",
    "\n",
    "# Read the CSV file with low_memory=False\n",
    "data = pd.read_csv(csv_path, sep=',', low_memory=False)\n",
    "\n",
    "# Display the shape of the DataFrame\n",
    "print(data.shape)"
   ]
  },
  {
   "cell_type": "code",
   "execution_count": 21,
   "id": "5eca91a0-ea8b-453c-8ecc-a6d6ebeb8067",
   "metadata": {},
   "outputs": [
    {
     "data": {
      "text/plain": [
       "0"
      ]
     },
     "execution_count": 21,
     "metadata": {},
     "output_type": "execute_result"
    }
   ],
   "source": [
    "# Find the sum/total of duplicated id.\n",
    "data['id'].duplicated().sum()"
   ]
  },
  {
   "cell_type": "markdown",
   "id": "723a8381-652e-485e-bf0b-04d490e37e22",
   "metadata": {},
   "source": [
    "There's no duplicated id in our data frame."
   ]
  },
  {
   "cell_type": "markdown",
   "id": "410995dc-0750-4308-85fd-bd4c4253aa98",
   "metadata": {},
   "source": [
    "## **3.2 Define Bad Loan**\n",
    "---"
   ]
  },
  {
   "cell_type": "markdown",
   "id": "a647ef7e-f795-4772-a508-7574372aff7d",
   "metadata": {},
   "source": [
    "---"
   ]
  },
  {
   "cell_type": "markdown",
   "id": "3faeb07a-3ac4-4ea7-87ba-ffcab3239590",
   "metadata": {},
   "source": [
    "#### **1. Add a months-back columnn**\n",
    "Create new column to define the number of months backward from the most recent month."
   ]
  },
  {
   "cell_type": "markdown",
   "id": "88403de3-2521-4090-9b47-cb38c20a5612",
   "metadata": {},
   "source": [
    "Variable Explanation:\n",
    "- `id` : The account's unique ID.\n",
    "- `issue_d` : The date the loan was issued."
   ]
  },
  {
   "cell_type": "code",
   "execution_count": 22,
   "id": "9aeebe93-0a5a-49c1-9824-0563ad58118d",
   "metadata": {},
   "outputs": [
    {
     "name": "stdout",
     "output_type": "stream",
     "text": [
      "<bound method NDFrame.head of               id issue_d\n",
      "0       60516983  Sep-15\n",
      "1       60187139  Sep-15\n",
      "2       60356453  Sep-15\n",
      "3       59955769  Sep-15\n",
      "4       58703693  Sep-15\n",
      "...          ...     ...\n",
      "421089  37257620  Jan-15\n",
      "421090  35998858  Jan-15\n",
      "421091  37317288  Jan-15\n",
      "421092  36200493  Jan-15\n",
      "421093  37011266  Jan-15\n",
      "\n",
      "[421094 rows x 2 columns]>\n",
      "id          int64\n",
      "issue_d    object\n",
      "dtype: object\n"
     ]
    }
   ],
   "source": [
    "print(data[['id','issue_d']].head)\n",
    "print(data[['id','issue_d']].dtypes)"
   ]
  },
  {
   "cell_type": "markdown",
   "id": "e4920ede-bc7e-4b11-93bb-cd31f851f39e",
   "metadata": {},
   "source": [
    "To create a cohort table, we need to:\n",
    "- **Convert \"issue_d\" column into datetime format.**\n",
    "- **Find the Most Recent Month** : Identify the most recent month in the \"issue_d\" column. This reference point serves as the starting month for measuring the \"months_balance.\"\n",
    "- **Calculate Months Backward**: For each entry in the \"issue_d\" column, calculate the number of months backward from the most recent month. This calculation considers the difference in days between the \"issue_d\" date and the most recent date and then converts it into months.\n",
    "- **Create a New Column**: Create a new column named \"months_balance\" in the DataFrame to store the calculated values."
   ]
  },
  {
   "cell_type": "code",
   "execution_count": 23,
   "id": "52950b07-2f79-468d-8472-38ac11852a23",
   "metadata": {},
   "outputs": [
    {
     "name": "stdout",
     "output_type": "stream",
     "text": [
      "The most recent month in the 'issue_d' column is: 2015-12-01 00:00:00\n",
      "The least recent month in the 'issue_d' column is: 2015-01-01 00:00:00\n",
      "id                  int64\n",
      "issue_d    datetime64[ns]\n",
      "dtype: object\n"
     ]
    }
   ],
   "source": [
    "# Convert \"issue_d\" column to datetime with format specified\n",
    "data[\"issue_d\"] = pd.to_datetime(data[\"issue_d\"], format='%b-%y')\n",
    "\n",
    "# Find the most recent month in the \"issue_d\" column\n",
    "most_recent_month = data[\"issue_d\"].max()\n",
    "\n",
    "# Find the least recent month in the \"issue_d\" column\n",
    "least_recent_month = data[\"issue_d\"].min()\n",
    "\n",
    "print(\"The most recent month in the 'issue_d' column is:\", most_recent_month)\n",
    "print(\"The least recent month in the 'issue_d' column is:\", least_recent_month)\n",
    "print(data[['id','issue_d']].dtypes)"
   ]
  },
  {
   "cell_type": "code",
   "execution_count": 24,
   "id": "80a5819b-52d9-44ca-b669-cb720705b34b",
   "metadata": {},
   "outputs": [
    {
     "name": "stdout",
     "output_type": "stream",
     "text": [
      "              id  months_balance\n",
      "0       60516983              -4\n",
      "1       60187139              -4\n",
      "2       60356453              -4\n",
      "3       59955769              -4\n",
      "4       58703693              -4\n",
      "...          ...             ...\n",
      "421089  37257620             -12\n",
      "421090  35998858             -12\n",
      "421091  37317288             -12\n",
      "421092  36200493             -12\n",
      "421093  37011266             -12\n",
      "\n",
      "[421094 rows x 2 columns]\n"
     ]
    }
   ],
   "source": [
    "# Calculate months backward from the most recent month\n",
    "data[\"months_balance\"] = (data[\"issue_d\"] - most_recent_month).dt.days // 30\n",
    "\n",
    "print(data[['id','months_balance']])"
   ]
  },
  {
   "cell_type": "markdown",
   "id": "6adac1ac-8cde-4486-8757-37aac9935ad4",
   "metadata": {},
   "source": [
    "Now we have a column `months_balance` : The month of the extracted data is the starting point, backwards.\n",
    "- `months_balance` = `0` is the current month,\n",
    "- `months_balance` = `-1` is the previous month,\n",
    "- and so on."
   ]
  },
  {
   "cell_type": "markdown",
   "id": "3b183359-8e24-49ff-97da-36d0963e44e8",
   "metadata": {},
   "source": [
    "#### **2. Define the bad loan**\n",
    "---"
   ]
  },
  {
   "cell_type": "code",
   "execution_count": 25,
   "id": "f2e0cfc3-2f83-4c6e-b7f5-b0decae8442f",
   "metadata": {},
   "outputs": [
    {
     "data": {
      "text/plain": [
       "(421094, 75)"
      ]
     },
     "execution_count": 25,
     "metadata": {},
     "output_type": "execute_result"
    }
   ],
   "source": [
    "# Check the data shape\n",
    "data.shape"
   ]
  },
  {
   "cell_type": "markdown",
   "id": "b9595c6e-be98-447a-bf43-574ab1874dab",
   "metadata": {},
   "source": [
    "- The data contains 75 variables from 421,094 records.\n",
    "- Let's check how many unique IDs we have."
   ]
  },
  {
   "cell_type": "code",
   "execution_count": 26,
   "id": "9b8c265d-4dae-4978-a485-71ada5030201",
   "metadata": {},
   "outputs": [
    {
     "name": "stdout",
     "output_type": "stream",
     "text": [
      "Total number of unique ids: 421094\n"
     ]
    }
   ],
   "source": [
    "# Check the total of unique IDs\n",
    "unique_ids = data['id'].nunique()\n",
    "print(\"Total number of unique ids:\", unique_ids)"
   ]
  },
  {
   "cell_type": "markdown",
   "id": "3ed8a971-b300-49bf-a5dd-73853bb21286",
   "metadata": {},
   "source": [
    "- The data contains 421,094 unique IDs."
   ]
  },
  {
   "cell_type": "markdown",
   "id": "e945fc8d-4652-46b3-b1a8-23fdc9bedcb6",
   "metadata": {},
   "source": [
    "##### **2.1 Identify Bad Loan**"
   ]
  },
  {
   "cell_type": "markdown",
   "id": "2a534320-a463-44f1-9fa0-840537a1e6cd",
   "metadata": {},
   "source": [
    "Variable Explanation:\n",
    "- `id` : The account's unique ID.\n",
    "- `loan_status` : The status of the loan.\n",
    "  - Charged off : The borrower has not repaid the loan, and it's unlikely to be recovered\n",
    "  - Default : The borrower has not met their repayment obligations, and the loan is in default\n",
    "  - Late (31-120 days) : The borrower is 31 to 120 days behind on payments\n",
    "  - Current : The loan is in good standing, with payments being made as agreed\n",
    "  - In Grace Period : The borrower is allowed a short period for a late payment without penalties\n",
    "  - Late (16-30 days) : The borrower is 16 to 30 days behind on payments\n",
    "  - Issued : The loan has been approved and issued but has not yet entered the repayment phase"
   ]
  },
  {
   "cell_type": "markdown",
   "id": "4f0c1078-16b8-4df4-b48b-5d6617d8975b",
   "metadata": {},
   "source": [
    "Re-define each loan_status :\n",
    "- `0`: 1-15 days past due (Grace Period)\n",
    "- `1`: 16-30 days past due (Late 16-30 days)\n",
    "- `2`: 31-120 days past due (Late 31-120 days)\n",
    "- `3`: 121-149 days past due (Default)\n",
    "- `4`: More than 150 days past due (Charged off)\n",
    "- `C`: Paid off that month (Fully paid)\n",
    "- `X`: Loan is in good standing (Current)\n",
    "- `I`: Loan has not yet entered the repayment phase (Issued) future."
   ]
  },
  {
   "cell_type": "code",
   "execution_count": 27,
   "id": "31f2e7e9-b4c4-474a-b645-875382ea6b26",
   "metadata": {},
   "outputs": [
    {
     "name": "stdout",
     "output_type": "stream",
     "text": [
      "              id  months_balance         loan_status status_converted\n",
      "0       60516983              -4         Charged Off                4\n",
      "1       60187139              -4         Charged Off                4\n",
      "2       60356453              -4         Charged Off                4\n",
      "3       59955769              -4         Charged Off                4\n",
      "4       58703693              -4         Charged Off                4\n",
      "...          ...             ...                 ...              ...\n",
      "421089  37257620             -12  Late (31-120 days)                2\n",
      "421090  35998858             -12  Late (31-120 days)                2\n",
      "421091  37317288             -12  Late (31-120 days)                2\n",
      "421092  36200493             -12  Late (31-120 days)                2\n",
      "421093  37011266             -12  Late (31-120 days)                2\n",
      "\n",
      "[421094 rows x 4 columns]\n"
     ]
    }
   ],
   "source": [
    "# Convert each status and store to 'status_converted' column\n",
    "data['status_converted'] = np.where(data['loan_status'] == 'Grace Period', 0,\n",
    "                np.where(data['loan_status'] == 'Late (16-30 days)', 1,\n",
    "                np.where(data['loan_status'] == 'Late (31-120 days)', 2,\n",
    "                np.where(data['loan_status'] == 'Default', 3,\n",
    "                np.where(data['loan_status'] == 'Charged Off', 4,\n",
    "                np.where(data['loan_status'] == 'Fully Paid', 'C',\n",
    "                np.where(data['loan_status'] == 'Current', 'X',\n",
    "                np.where(data['loan_status'] == 'Issued', 'I', -1))))))))\n",
    "\n",
    "print(data[['id', 'months_balance','loan_status', 'status_converted']])"
   ]
  },
  {
   "cell_type": "markdown",
   "id": "a2d8b05b-233d-47f0-94ea-d2733f57c5b3",
   "metadata": {},
   "source": [
    "Assume that the bad loan as an account whose loan status is a minimum of 30 days past due."
   ]
  },
  {
   "cell_type": "code",
   "execution_count": 28,
   "id": "96d48fcd-badd-4815-816a-399cf290c062",
   "metadata": {},
   "outputs": [
    {
     "name": "stdout",
     "output_type": "stream",
     "text": [
      "              id status_converted  30+DPD\n",
      "0       60516983                4       1\n",
      "1       60187139                4       1\n",
      "2       60356453                4       1\n",
      "3       59955769                4       1\n",
      "4       58703693                4       1\n",
      "...          ...              ...     ...\n",
      "421089  37257620                2       1\n",
      "421090  35998858                2       1\n",
      "421091  37317288                2       1\n",
      "421092  36200493                2       1\n",
      "421093  37011266                2       1\n",
      "\n",
      "[421094 rows x 3 columns]\n"
     ]
    }
   ],
   "source": [
    "# Define the bad loan\n",
    "data['30+DPD'] = np.where(\n",
    "    (data['status_converted'] == '2') |\n",
    "    (data['status_converted'] == '3') |\n",
    "    (data['status_converted'] == '4'),\n",
    "    1,  # Set to 1 if the condition is met\n",
    "    0   # Set to 0 for all other cases\n",
    ")\n",
    "\n",
    "print(data[['id','status_converted','30+DPD']])"
   ]
  },
  {
   "cell_type": "markdown",
   "id": "b56d0f64-1874-4f59-9e04-4d8881a08d15",
   "metadata": {},
   "source": [
    "# <font color='Blue'> **4. Data Exploration** </font>\n",
    "---"
   ]
  },
  {
   "cell_type": "markdown",
   "id": "5332c984-fc75-4ba5-a56b-4f85e8c969fd",
   "metadata": {},
   "source": [
    "## **4.1 Sample Splitting**\n",
    "---"
   ]
  },
  {
   "cell_type": "markdown",
   "id": "842e61a5-e0f9-4b7c-b1fd-e58d21a5af3e",
   "metadata": {},
   "source": [
    "Before modeling, make sure we split the data first for model validation.\n",
    "\n",
    "In the classification case, check the proportion of the response variable first to decide the splitting strategy."
   ]
  },
  {
   "cell_type": "code",
   "execution_count": 29,
   "id": "5071ce0d-660e-4a97-9a95-5265b69af18c",
   "metadata": {},
   "outputs": [
    {
     "data": {
      "text/plain": [
       "0    0.981356\n",
       "1    0.018644\n",
       "Name: 30+DPD, dtype: float64"
      ]
     },
     "execution_count": 29,
     "metadata": {},
     "output_type": "execute_result"
    }
   ],
   "source": [
    "# Define response variable\n",
    "response_variable = '30+DPD'\n",
    "\n",
    "# Check the proportion of response variable\n",
    "data[response_variable].value_counts(normalize = True)"
   ]
  },
  {
   "cell_type": "markdown",
   "id": "134b7507-76fd-4d63-9c68-a6a8d1fb9645",
   "metadata": {},
   "source": [
    "- The proportion of the response variable, `30+DPD`, is not quite balanced (in a ratio of 98:2).\r",
    "- To get the same ratio in training and testing set, define a stratified splitting based on the response variable, `30+DPD`\n",
    "\n",
    "Stratified splitting ensures that when you split your dataset into training and testing sets, each set maintains the same proportion of classes as the original dataset."
   ]
  },
  {
   "cell_type": "markdown",
   "id": "764aafdd-4cfb-4eff-9bd1-c191aedfcf5f",
   "metadata": {},
   "source": [
    "First, define the predictors (X) and the response (y)."
   ]
  },
  {
   "cell_type": "code",
   "execution_count": 30,
   "id": "d62a7034-3de0-4d9f-9b8b-27c09b3f4c82",
   "metadata": {},
   "outputs": [
    {
     "name": "stdout",
     "output_type": "stream",
     "text": [
      "y shape : (421094,)\n",
      "X shape : (421094, 76)\n"
     ]
    }
   ],
   "source": [
    "# Split response and predictors\n",
    "y = data[response_variable]\n",
    "X = data.drop(columns = [response_variable],\n",
    "              axis = 1)\n",
    "\n",
    "# Validate the splitting\n",
    "print('y shape :', y.shape)\n",
    "print('X shape :', X.shape)"
   ]
  },
  {
   "cell_type": "markdown",
   "id": "e55509cc-a803-44c3-a477-55fe0cfc2ac9",
   "metadata": {},
   "source": [
    "Next, split the training and testing set from each predictors (X) and response (y).\n",
    "- Set `stratify = y` for splitting the sample with stratify, based on the proportion of response y.\n",
    "- Set `test_size = 0.3` for holding 30% of the sample as a testing set.\n",
    "- Set `random_state = 42` for reproducibility."
   ]
  },
  {
   "cell_type": "code",
   "execution_count": 31,
   "id": "5487ba4b-5c98-4c1a-8f05-d423eb84c88d",
   "metadata": {},
   "outputs": [
    {
     "name": "stdout",
     "output_type": "stream",
     "text": [
      "X train shape : (294765, 76)\n",
      "y train shape : (294765,)\n",
      "X test shape  : (126329, 76)\n",
      "y test shape  : (126329,)\n"
     ]
    }
   ],
   "source": [
    "from sklearn.model_selection import train_test_split\n",
    "\n",
    "# Split the data\n",
    "X_train, X_test, y_train, y_test = train_test_split(X,\n",
    "                                                    y,\n",
    "                                                    stratify = y,\n",
    "                                                    test_size = 0.3,\n",
    "                                                    random_state = 42)\n",
    "\n",
    "# Validate splitting\n",
    "print('X train shape :', X_train.shape)\n",
    "print('y train shape :', y_train.shape)\n",
    "print('X test shape  :', X_test.shape)\n",
    "print('y test shape  :', y_test.shape)"
   ]
  },
  {
   "cell_type": "markdown",
   "id": "71428790-feed-407e-ad90-4927f7cf6eaf",
   "metadata": {},
   "source": [
    "Check the proportion of response y in each training and testing set."
   ]
  },
  {
   "cell_type": "code",
   "execution_count": 32,
   "id": "ef262952-edd8-4c18-a6a7-c7cf15271e26",
   "metadata": {},
   "outputs": [
    {
     "data": {
      "text/plain": [
       "0    0.981355\n",
       "1    0.018645\n",
       "Name: 30+DPD, dtype: float64"
      ]
     },
     "execution_count": 32,
     "metadata": {},
     "output_type": "execute_result"
    }
   ],
   "source": [
    "y_train.value_counts(normalize = True)"
   ]
  },
  {
   "cell_type": "code",
   "execution_count": 33,
   "id": "cb2725f9-ddbe-4292-84ef-db27d3550863",
   "metadata": {},
   "outputs": [
    {
     "data": {
      "text/plain": [
       "0    0.981358\n",
       "1    0.018642\n",
       "Name: 30+DPD, dtype: float64"
      ]
     },
     "execution_count": 33,
     "metadata": {},
     "output_type": "execute_result"
    }
   ],
   "source": [
    "y_test.value_counts(normalize = True)"
   ]
  },
  {
   "cell_type": "markdown",
   "id": "677bc86f-4506-486c-bc94-d7585f69cb8c",
   "metadata": {},
   "source": [
    "## **4.2 Exploratory Data Analysis**\n",
    "---"
   ]
  },
  {
   "cell_type": "markdown",
   "id": "68ca03ca-7bb5-4f4d-9507-808c00375a8a",
   "metadata": {},
   "source": [
    "- To make a model that predicts well on unseen data, we must prevent leakage of test set information.\r\n",
    "- Thus, we only explore on **training set**\n",
    "\n",
    "What do we do in EDA?\r\n",
    "- Check data integrity.\r\n",
    "- Check for any insight in the data: distribution, proportion, outliers, missing values, etc.\r\n",
    "- Make a plan for data pre-processing.."
   ]
  },
  {
   "cell_type": "code",
   "execution_count": 34,
   "id": "f3a0b5b2-6be4-4d21-8196-09313764d09d",
   "metadata": {},
   "outputs": [
    {
     "name": "stdout",
     "output_type": "stream",
     "text": [
      "Train data shape: (294765, 77)\n"
     ]
    },
    {
     "data": {
      "text/html": [
       "<div>\n",
       "<style scoped>\n",
       "    .dataframe tbody tr th:only-of-type {\n",
       "        vertical-align: middle;\n",
       "    }\n",
       "\n",
       "    .dataframe tbody tr th {\n",
       "        vertical-align: top;\n",
       "    }\n",
       "\n",
       "    .dataframe thead th {\n",
       "        text-align: right;\n",
       "    }\n",
       "</style>\n",
       "<table border=\"1\" class=\"dataframe\">\n",
       "  <thead>\n",
       "    <tr style=\"text-align: right;\">\n",
       "      <th></th>\n",
       "      <th>id</th>\n",
       "      <th>member_id</th>\n",
       "      <th>loan_amnt</th>\n",
       "      <th>funded_amnt</th>\n",
       "      <th>funded_amnt_inv</th>\n",
       "      <th>term</th>\n",
       "      <th>int_rate</th>\n",
       "      <th>installment</th>\n",
       "      <th>grade</th>\n",
       "      <th>sub_grade</th>\n",
       "      <th>...</th>\n",
       "      <th>open_rv_24m</th>\n",
       "      <th>max_bal_bc</th>\n",
       "      <th>all_util</th>\n",
       "      <th>total_rev_hi_lim</th>\n",
       "      <th>inq_fi</th>\n",
       "      <th>total_cu_tl</th>\n",
       "      <th>inq_last_12m</th>\n",
       "      <th>months_balance</th>\n",
       "      <th>status_converted</th>\n",
       "      <th>30+DPD</th>\n",
       "    </tr>\n",
       "  </thead>\n",
       "  <tbody>\n",
       "    <tr>\n",
       "      <th>260455</th>\n",
       "      <td>49218748</td>\n",
       "      <td>52527489</td>\n",
       "      <td>6000</td>\n",
       "      <td>6000</td>\n",
       "      <td>6000</td>\n",
       "      <td>36 months</td>\n",
       "      <td>9.99</td>\n",
       "      <td>193.58</td>\n",
       "      <td>B</td>\n",
       "      <td>B3</td>\n",
       "      <td>...</td>\n",
       "      <td>NaN</td>\n",
       "      <td>NaN</td>\n",
       "      <td>NaN</td>\n",
       "      <td>8200</td>\n",
       "      <td>NaN</td>\n",
       "      <td>NaN</td>\n",
       "      <td>NaN</td>\n",
       "      <td>-8</td>\n",
       "      <td>X</td>\n",
       "      <td>0</td>\n",
       "    </tr>\n",
       "    <tr>\n",
       "      <th>340934</th>\n",
       "      <td>41020225</td>\n",
       "      <td>43896010</td>\n",
       "      <td>10000</td>\n",
       "      <td>10000</td>\n",
       "      <td>10000</td>\n",
       "      <td>36 months</td>\n",
       "      <td>12.29</td>\n",
       "      <td>333.53</td>\n",
       "      <td>C</td>\n",
       "      <td>C1</td>\n",
       "      <td>...</td>\n",
       "      <td>NaN</td>\n",
       "      <td>NaN</td>\n",
       "      <td>NaN</td>\n",
       "      <td>20600</td>\n",
       "      <td>NaN</td>\n",
       "      <td>NaN</td>\n",
       "      <td>NaN</td>\n",
       "      <td>-11</td>\n",
       "      <td>X</td>\n",
       "      <td>0</td>\n",
       "    </tr>\n",
       "    <tr>\n",
       "      <th>93453</th>\n",
       "      <td>62137052</td>\n",
       "      <td>66333818</td>\n",
       "      <td>6000</td>\n",
       "      <td>6000</td>\n",
       "      <td>6000</td>\n",
       "      <td>36 months</td>\n",
       "      <td>11.53</td>\n",
       "      <td>197.95</td>\n",
       "      <td>B</td>\n",
       "      <td>B5</td>\n",
       "      <td>...</td>\n",
       "      <td>NaN</td>\n",
       "      <td>NaN</td>\n",
       "      <td>NaN</td>\n",
       "      <td>8600</td>\n",
       "      <td>NaN</td>\n",
       "      <td>NaN</td>\n",
       "      <td>NaN</td>\n",
       "      <td>-3</td>\n",
       "      <td>X</td>\n",
       "      <td>0</td>\n",
       "    </tr>\n",
       "    <tr>\n",
       "      <th>115371</th>\n",
       "      <td>60945126</td>\n",
       "      <td>64986989</td>\n",
       "      <td>7500</td>\n",
       "      <td>7500</td>\n",
       "      <td>7500</td>\n",
       "      <td>36 months</td>\n",
       "      <td>13.33</td>\n",
       "      <td>253.90</td>\n",
       "      <td>C</td>\n",
       "      <td>C3</td>\n",
       "      <td>...</td>\n",
       "      <td>NaN</td>\n",
       "      <td>NaN</td>\n",
       "      <td>NaN</td>\n",
       "      <td>10000</td>\n",
       "      <td>NaN</td>\n",
       "      <td>NaN</td>\n",
       "      <td>NaN</td>\n",
       "      <td>-3</td>\n",
       "      <td>X</td>\n",
       "      <td>0</td>\n",
       "    </tr>\n",
       "    <tr>\n",
       "      <th>358582</th>\n",
       "      <td>39560580</td>\n",
       "      <td>42384347</td>\n",
       "      <td>14000</td>\n",
       "      <td>14000</td>\n",
       "      <td>14000</td>\n",
       "      <td>60 months</td>\n",
       "      <td>8.67</td>\n",
       "      <td>288.38</td>\n",
       "      <td>B</td>\n",
       "      <td>B1</td>\n",
       "      <td>...</td>\n",
       "      <td>NaN</td>\n",
       "      <td>NaN</td>\n",
       "      <td>NaN</td>\n",
       "      <td>16000</td>\n",
       "      <td>NaN</td>\n",
       "      <td>NaN</td>\n",
       "      <td>NaN</td>\n",
       "      <td>-12</td>\n",
       "      <td>X</td>\n",
       "      <td>0</td>\n",
       "    </tr>\n",
       "  </tbody>\n",
       "</table>\n",
       "<p>5 rows × 77 columns</p>\n",
       "</div>"
      ],
      "text/plain": [
       "              id  member_id  loan_amnt  funded_amnt  funded_amnt_inv  \\\n",
       "260455  49218748   52527489       6000         6000             6000   \n",
       "340934  41020225   43896010      10000        10000            10000   \n",
       "93453   62137052   66333818       6000         6000             6000   \n",
       "115371  60945126   64986989       7500         7500             7500   \n",
       "358582  39560580   42384347      14000        14000            14000   \n",
       "\n",
       "              term  int_rate  installment grade sub_grade  ... open_rv_24m  \\\n",
       "260455   36 months      9.99       193.58     B        B3  ...         NaN   \n",
       "340934   36 months     12.29       333.53     C        C1  ...         NaN   \n",
       "93453    36 months     11.53       197.95     B        B5  ...         NaN   \n",
       "115371   36 months     13.33       253.90     C        C3  ...         NaN   \n",
       "358582   60 months      8.67       288.38     B        B1  ...         NaN   \n",
       "\n",
       "       max_bal_bc all_util  total_rev_hi_lim inq_fi total_cu_tl inq_last_12m  \\\n",
       "260455        NaN      NaN              8200    NaN         NaN          NaN   \n",
       "340934        NaN      NaN             20600    NaN         NaN          NaN   \n",
       "93453         NaN      NaN              8600    NaN         NaN          NaN   \n",
       "115371        NaN      NaN             10000    NaN         NaN          NaN   \n",
       "358582        NaN      NaN             16000    NaN         NaN          NaN   \n",
       "\n",
       "       months_balance status_converted 30+DPD  \n",
       "260455             -8                X      0  \n",
       "340934            -11                X      0  \n",
       "93453              -3                X      0  \n",
       "115371             -3                X      0  \n",
       "358582            -12                X      0  \n",
       "\n",
       "[5 rows x 77 columns]"
      ]
     },
     "execution_count": 34,
     "metadata": {},
     "output_type": "execute_result"
    }
   ],
   "source": [
    "# Concatenate X_train and y_train as data_train\n",
    "data_train = pd.concat((X_train, y_train),\n",
    "                       axis = 1)\n",
    "\n",
    "# Validate data_train\n",
    "print('Train data shape:', data_train.shape)\n",
    "data_train.head()"
   ]
  },
  {
   "cell_type": "markdown",
   "id": "5bf52d85-83c4-4425-9f04-68bda8ac92cb",
   "metadata": {},
   "source": [
    "### Check for Missing Values\n",
    "---"
   ]
  },
  {
   "cell_type": "code",
   "execution_count": 35,
   "id": "027ba003-8b12-48f2-81ab-9407cf853024",
   "metadata": {},
   "outputs": [
    {
     "data": {
      "text/plain": [
       "id                       0\n",
       "member_id                0\n",
       "loan_amnt                0\n",
       "funded_amnt              0\n",
       "funded_amnt_inv          0\n",
       "                     ...  \n",
       "total_cu_tl         279871\n",
       "inq_last_12m        279871\n",
       "months_balance           0\n",
       "status_converted         0\n",
       "30+DPD                   0\n",
       "Length: 77, dtype: int64"
      ]
     },
     "execution_count": 35,
     "metadata": {},
     "output_type": "execute_result"
    }
   ],
   "source": [
    "# Check for missing values\n",
    "data_train.isna().sum()"
   ]
  },
  {
   "cell_type": "code",
   "execution_count": 36,
   "id": "999ddb37-a45d-44d0-b221-255b1ad9c32b",
   "metadata": {},
   "outputs": [
    {
     "name": "stdout",
     "output_type": "stream",
     "text": [
      "<class 'pandas.core.frame.DataFrame'>\n",
      "Int64Index: 294765 entries, 260455 to 254455\n",
      "Data columns (total 77 columns):\n",
      " #   Column                       Non-Null Count   Dtype         \n",
      "---  ------                       --------------   -----         \n",
      " 0   id                           294765 non-null  int64         \n",
      " 1   member_id                    294765 non-null  int64         \n",
      " 2   loan_amnt                    294765 non-null  int64         \n",
      " 3   funded_amnt                  294765 non-null  int64         \n",
      " 4   funded_amnt_inv              294765 non-null  int64         \n",
      " 5   term                         294765 non-null  object        \n",
      " 6   int_rate                     294765 non-null  float64       \n",
      " 7   installment                  294765 non-null  float64       \n",
      " 8   grade                        294765 non-null  object        \n",
      " 9   sub_grade                    294765 non-null  object        \n",
      " 10  emp_title                    278094 non-null  object        \n",
      " 11  emp_length                   278124 non-null  object        \n",
      " 12  home_ownership               294765 non-null  object        \n",
      " 13  annual_inc                   294765 non-null  float64       \n",
      " 14  verification_status          294765 non-null  object        \n",
      " 15  issue_d                      294765 non-null  datetime64[ns]\n",
      " 16  loan_status                  294765 non-null  object        \n",
      " 17  pymnt_plan                   294765 non-null  object        \n",
      " 18  url                          294765 non-null  object        \n",
      " 19  desc                         34 non-null      object        \n",
      " 20  purpose                      294765 non-null  object        \n",
      " 21  title                        294675 non-null  object        \n",
      " 22  zip_code                     294765 non-null  object        \n",
      " 23  addr_state                   294765 non-null  object        \n",
      " 24  dti                          294765 non-null  float64       \n",
      " 25  delinq_2yrs                  294765 non-null  int64         \n",
      " 26  earliest_cr_line             294765 non-null  object        \n",
      " 27  inq_last_6mths               294765 non-null  int64         \n",
      " 28  mths_since_last_delinq       151732 non-null  float64       \n",
      " 29  mths_since_last_record       52003 non-null   float64       \n",
      " 30  open_acc                     294765 non-null  int64         \n",
      " 31  pub_rec                      294765 non-null  int64         \n",
      " 32  revol_bal                    294765 non-null  int64         \n",
      " 33  revol_util                   294651 non-null  float64       \n",
      " 34  total_acc                    294765 non-null  int64         \n",
      " 35  initial_list_status          294765 non-null  object        \n",
      " 36  out_prncp                    294765 non-null  float64       \n",
      " 37  out_prncp_inv                294765 non-null  float64       \n",
      " 38  total_pymnt                  294765 non-null  float64       \n",
      " 39  total_pymnt_inv              294765 non-null  float64       \n",
      " 40  total_rec_prncp              294765 non-null  float64       \n",
      " 41  total_rec_int                294765 non-null  float64       \n",
      " 42  total_rec_late_fee           294765 non-null  float64       \n",
      " 43  recoveries                   294765 non-null  float64       \n",
      " 44  collection_recovery_fee      294765 non-null  float64       \n",
      " 45  last_pymnt_d                 282697 non-null  object        \n",
      " 46  last_pymnt_amnt              294765 non-null  float64       \n",
      " 47  next_pymnt_d                 276567 non-null  object        \n",
      " 48  last_credit_pull_d           294756 non-null  object        \n",
      " 49  collections_12_mths_ex_med   294765 non-null  int64         \n",
      " 50  mths_since_last_major_derog  86041 non-null   float64       \n",
      " 51  policy_code                  294765 non-null  int64         \n",
      " 52  application_type             294765 non-null  object        \n",
      " 53  annual_inc_joint             344 non-null     float64       \n",
      " 54  dti_joint                    343 non-null     float64       \n",
      " 55  verification_status_joint    344 non-null     object        \n",
      " 56  acc_now_delinq               294765 non-null  int64         \n",
      " 57  tot_coll_amt                 294765 non-null  int64         \n",
      " 58  tot_cur_bal                  294765 non-null  int64         \n",
      " 59  open_acc_6m                  14894 non-null   float64       \n",
      " 60  open_il_6m                   14894 non-null   float64       \n",
      " 61  open_il_12m                  14894 non-null   float64       \n",
      " 62  open_il_24m                  14894 non-null   float64       \n",
      " 63  mths_since_rcnt_il           14510 non-null   float64       \n",
      " 64  total_bal_il                 14894 non-null   float64       \n",
      " 65  il_util                      12991 non-null   float64       \n",
      " 66  open_rv_12m                  14894 non-null   float64       \n",
      " 67  open_rv_24m                  14894 non-null   float64       \n",
      " 68  max_bal_bc                   14894 non-null   float64       \n",
      " 69  all_util                     14894 non-null   float64       \n",
      " 70  total_rev_hi_lim             294765 non-null  int64         \n",
      " 71  inq_fi                       14894 non-null   float64       \n",
      " 72  total_cu_tl                  14894 non-null   float64       \n",
      " 73  inq_last_12m                 14894 non-null   float64       \n",
      " 74  months_balance               294765 non-null  int64         \n",
      " 75  status_converted             294765 non-null  object        \n",
      " 76  30+DPD                       294765 non-null  int64         \n",
      "dtypes: datetime64[ns](1), float64(34), int64(19), object(23)\n",
      "memory usage: 175.4+ MB\n"
     ]
    }
   ],
   "source": [
    "# Check for data type\n",
    "data_train.info()"
   ]
  },
  {
   "cell_type": "markdown",
   "id": "4e91cc73-ddc8-483b-9ae2-ec8147ee485e",
   "metadata": {},
   "source": [
    "**Summary**\n",
    "- There are missing values in more than 10 variables.\n",
    "- Considering the large number of columns in our dataset with missing data, it's a wise choice to filter or remove columns where more than 80% of the data is missing.\n",
    "- This action eliminates unreliable or irrelevant features and reduces the dataset's complexity, enhancing the performance of machine learning models, and optimizes how our computer resources are used.\n",
    "\r\n",
    "\r\n"
   ]
  },
  {
   "cell_type": "code",
   "execution_count": 37,
   "id": "64b74db0-24a9-487f-965e-de3475894c48",
   "metadata": {},
   "outputs": [
    {
     "name": "stdout",
     "output_type": "stream",
     "text": [
      "Columns with more than 80% null values:\n",
      "desc: 99.99%\n",
      "mths_since_last_record: 82.36%\n",
      "annual_inc_joint: 99.88%\n",
      "dti_joint: 99.88%\n",
      "verification_status_joint: 99.88%\n",
      "open_acc_6m: 94.95%\n",
      "open_il_6m: 94.95%\n",
      "open_il_12m: 94.95%\n",
      "open_il_24m: 94.95%\n",
      "mths_since_rcnt_il: 95.08%\n",
      "total_bal_il: 94.95%\n",
      "il_util: 95.59%\n",
      "open_rv_12m: 94.95%\n",
      "open_rv_24m: 94.95%\n",
      "max_bal_bc: 94.95%\n",
      "all_util: 94.95%\n",
      "inq_fi: 94.95%\n",
      "total_cu_tl: 94.95%\n",
      "inq_last_12m: 94.95%\n"
     ]
    }
   ],
   "source": [
    "# Get a list of columns with more than 80% null values\n",
    "null_threshold = 0.80  # Define the threshold\n",
    "\n",
    "# Calculate the percentage of null values in each column\n",
    "null_percentages = data_train.isnull().mean()\n",
    "\n",
    "# Filter columns with more than 80% null values\n",
    "columns_with_high_nulls = null_percentages[null_percentages > null_threshold]\n",
    "\n",
    "# Display the list of columns and their null percentages\n",
    "print(\"Columns with more than 80% null values:\")\n",
    "for column, percentage in columns_with_high_nulls.items():\n",
    "    print(f\"{column}: {percentage:.2%}\")"
   ]
  },
  {
   "cell_type": "code",
   "execution_count": 38,
   "id": "2a69c724-4e80-47e9-8c3c-af9e6c652112",
   "metadata": {},
   "outputs": [
    {
     "name": "stdout",
     "output_type": "stream",
     "text": [
      "\n",
      "DataFrame after dropping columns:\n",
      "(294765, 58)\n"
     ]
    }
   ],
   "source": [
    "# Drop columns with more than 80% null values\n",
    "columns_to_drop = [col for col in columns_with_high_nulls.index if col in data_train.columns]\n",
    "data_train.drop(columns=columns_to_drop, inplace=True)\n",
    "\n",
    "# Display the DataFrame after dropping columns\n",
    "print(\"\\nDataFrame after dropping columns:\")\n",
    "print(data_train.shape)"
   ]
  },
  {
   "cell_type": "code",
   "execution_count": 39,
   "id": "ec1273f7-52f6-4fa4-b535-511bde3ee4e8",
   "metadata": {},
   "outputs": [
    {
     "data": {
      "text/plain": [
       "id                                  0\n",
       "member_id                           0\n",
       "loan_amnt                           0\n",
       "funded_amnt                         0\n",
       "funded_amnt_inv                     0\n",
       "term                                0\n",
       "int_rate                            0\n",
       "installment                         0\n",
       "grade                               0\n",
       "sub_grade                           0\n",
       "emp_title                       16671\n",
       "emp_length                      16641\n",
       "home_ownership                      0\n",
       "annual_inc                          0\n",
       "verification_status                 0\n",
       "issue_d                             0\n",
       "loan_status                         0\n",
       "pymnt_plan                          0\n",
       "url                                 0\n",
       "purpose                             0\n",
       "title                              90\n",
       "zip_code                            0\n",
       "addr_state                          0\n",
       "dti                                 0\n",
       "delinq_2yrs                         0\n",
       "earliest_cr_line                    0\n",
       "inq_last_6mths                      0\n",
       "mths_since_last_delinq         143033\n",
       "open_acc                            0\n",
       "pub_rec                             0\n",
       "revol_bal                           0\n",
       "revol_util                        114\n",
       "total_acc                           0\n",
       "initial_list_status                 0\n",
       "out_prncp                           0\n",
       "out_prncp_inv                       0\n",
       "total_pymnt                         0\n",
       "total_pymnt_inv                     0\n",
       "total_rec_prncp                     0\n",
       "total_rec_int                       0\n",
       "total_rec_late_fee                  0\n",
       "recoveries                          0\n",
       "collection_recovery_fee             0\n",
       "last_pymnt_d                    12068\n",
       "last_pymnt_amnt                     0\n",
       "next_pymnt_d                    18198\n",
       "last_credit_pull_d                  9\n",
       "collections_12_mths_ex_med          0\n",
       "mths_since_last_major_derog    208724\n",
       "policy_code                         0\n",
       "application_type                    0\n",
       "acc_now_delinq                      0\n",
       "tot_coll_amt                        0\n",
       "tot_cur_bal                         0\n",
       "total_rev_hi_lim                    0\n",
       "months_balance                      0\n",
       "status_converted                    0\n",
       "30+DPD                              0\n",
       "dtype: int64"
      ]
     },
     "execution_count": 39,
     "metadata": {},
     "output_type": "execute_result"
    }
   ],
   "source": [
    "# Check for missing values\n",
    "data_train.isna().sum()"
   ]
  },
  {
   "cell_type": "code",
   "execution_count": 40,
   "id": "12bccc1b-e36c-4a03-9b40-29f3d2f281a3",
   "metadata": {},
   "outputs": [
    {
     "name": "stdout",
     "output_type": "stream",
     "text": [
      "Index(['emp_title', 'emp_length', 'title', 'mths_since_last_delinq',\n",
      "       'revol_util', 'last_pymnt_d', 'next_pymnt_d', 'last_credit_pull_d',\n",
      "       'mths_since_last_major_derog'],\n",
      "      dtype='object')\n"
     ]
    }
   ],
   "source": [
    "# Identify columns with missing values\n",
    "columns_with_missing_values = data_train.columns[data_train.isnull().sum() > 0]\n",
    "print(columns_with_missing_values)"
   ]
  },
  {
   "cell_type": "markdown",
   "id": "85b3e3b7-19e4-466c-8108-a4677156d3b3",
   "metadata": {},
   "source": [
    "- Currently, 6 variables contain missing values.\n",
    "- Ideally, each one requires in-depth exploration to decide on the appropriate approach for handling these gaps.\n",
    "- Nevertheless, due to time limitations and taking into account the significance and definitions of these variables,\n",
    "  we will focus on a detailed analysis of 1 variable (`emp_length`), while the remaining 5 will be removed from consideration."
   ]
  },
  {
   "cell_type": "markdown",
   "id": "b5325cc7-be7b-4a74-a9fc-f065d6424ea8",
   "metadata": {},
   "source": [
    "After careful considerations, we will only use 6 numerical & 3categorical columns as predictors"
   ]
  },
  {
   "cell_type": "code",
   "execution_count": 41,
   "id": "84db418b-40a9-45f8-91f9-cd77050104a6",
   "metadata": {},
   "outputs": [],
   "source": [
    "# Define data with categorical predictors\n",
    "# Let's keep only 2 categorical predictors\n",
    "cat_columns = ['grade',\n",
    "               'home_ownership',\n",
    "               'purpose']"
   ]
  },
  {
   "cell_type": "code",
   "execution_count": 42,
   "id": "9e8914bb-6045-4c38-a739-37ac82465a05",
   "metadata": {},
   "outputs": [],
   "source": [
    "# Define data with numerical predictors\n",
    "# Let's keep only 6 numerical predictors\n",
    "num_columns = data_train[['loan_amnt',\n",
    "                            'term',\n",
    "                            'int_rate',\n",
    "                            'emp_length',\n",
    "                            'annual_inc',\n",
    "                            'dti']]"
   ]
  },
  {
   "cell_type": "code",
   "execution_count": 43,
   "id": "c21c89db-51e4-401c-aad0-599b85af63b4",
   "metadata": {},
   "outputs": [
    {
     "name": "stdout",
     "output_type": "stream",
     "text": [
      "       grade home_ownership             purpose  loan_amnt        term  \\\n",
      "260455     B       MORTGAGE  debt_consolidation       6000   36 months   \n",
      "340934     C       MORTGAGE         credit_card      10000   36 months   \n",
      "93453      B           RENT         credit_card       6000   36 months   \n",
      "115371     C       MORTGAGE  debt_consolidation       7500   36 months   \n",
      "358582     B       MORTGAGE         credit_card      14000   60 months   \n",
      "...      ...            ...                 ...        ...         ...   \n",
      "19429      C           RENT    home_improvement      16000   36 months   \n",
      "35779      C           RENT               other       1400   36 months   \n",
      "388181     E       MORTGAGE  debt_consolidation      14550   36 months   \n",
      "342413     C           RENT  debt_consolidation       8000   36 months   \n",
      "254455     C       MORTGAGE  debt_consolidation      11000   36 months   \n",
      "\n",
      "        int_rate emp_length  annual_inc    dti  30+DPD  \n",
      "260455      9.99     1 year    120000.0  15.98       0  \n",
      "340934     12.29  10+ years     37500.0  26.27       0  \n",
      "93453      11.53     1 year     25855.0  20.01       0  \n",
      "115371     13.33  10+ years     45000.0  25.71       0  \n",
      "358582      8.67    7 years     80000.0  16.24       0  \n",
      "...          ...        ...         ...    ...     ...  \n",
      "19429      12.59  10+ years     65000.0  23.99       0  \n",
      "35779      11.99    6 years     42000.0   8.45       0  \n",
      "388181     18.25  10+ years     40000.0  34.26       0  \n",
      "342413     12.69     1 year     50000.0  37.37       0  \n",
      "254455     12.69    8 years     50000.0  38.65       0  \n",
      "\n",
      "[294765 rows x 10 columns]\n"
     ]
    }
   ],
   "source": [
    "selected_columns = ['grade', 'home_ownership', 'purpose', 'loan_amnt', 'term', 'int_rate', 'emp_length', 'annual_inc', 'dti', '30+DPD']\n",
    "data_train_filtered = data_train[selected_columns]\n",
    "print(data_train_filtered)"
   ]
  },
  {
   "cell_type": "markdown",
   "id": "c32dbd52-a8e2-4282-8cee-75d9687ebe7a",
   "metadata": {},
   "source": [
    "### Predictor 1 : emp_length\n",
    "---"
   ]
  },
  {
   "cell_type": "code",
   "execution_count": 44,
   "id": "b0e4b755-dcdd-4555-a200-91554d984359",
   "metadata": {},
   "outputs": [
    {
     "data": {
      "text/plain": [
       "count        278124\n",
       "unique           11\n",
       "top       10+ years\n",
       "freq          98983\n",
       "Name: emp_length, dtype: object"
      ]
     },
     "execution_count": 44,
     "metadata": {},
     "output_type": "execute_result"
    }
   ],
   "source": [
    "# Descriptive statistics of 'emp_length'\n",
    "data_train_filtered['emp_length'].describe()"
   ]
  },
  {
   "cell_type": "code",
   "execution_count": 45,
   "id": "e79fb134-1f85-47e6-8d1b-debeeca2ebea",
   "metadata": {},
   "outputs": [
    {
     "data": {
      "text/plain": [
       "260455       1 year\n",
       "340934    10+ years\n",
       "93453        1 year\n",
       "115371    10+ years\n",
       "358582      7 years\n",
       "Name: emp_length, dtype: object"
      ]
     },
     "execution_count": 45,
     "metadata": {},
     "output_type": "execute_result"
    }
   ],
   "source": [
    "data_train_filtered['emp_length'].head()"
   ]
  },
  {
   "cell_type": "markdown",
   "id": "ba6089ae-d008-452f-a778-506768e15905",
   "metadata": {},
   "source": [
    "We need to clean up the 'emp_length' column by :\n",
    "- removing certain text characters,\n",
    "- converting the values to numeric,\n",
    "- assigning a value of 0 to any NaN (Not-a-Number) values."
   ]
  },
  {
   "cell_type": "code",
   "execution_count": 46,
   "id": "c7da2433-9f03-4af1-bbd5-c88c26fdb73d",
   "metadata": {},
   "outputs": [],
   "source": [
    "# # Helper function to clean up the emp_length column, assign 0 to NANs, and convert to numeric\n",
    "def emp_length_converter(data_train_filtered, emp_length):\n",
    "    # Create a copy of the column to avoid modifying the original DataFrame\n",
    "    emp_length_column = data_train_filtered[emp_length].copy()\n",
    "    \n",
    "    # Ensure the column contains string values\n",
    "    emp_length_column = emp_length_column.astype(str)\n",
    "    \n",
    "    # Clean up the text in the emp_length\n",
    "    emp_length_column = emp_length_column.str.replace(r'[^0-9]', '', regex=True)\n",
    "    \n",
    "    # Convert to numeric\n",
    "    emp_length_column = pd.to_numeric(emp_length_column, errors='coerce')\n",
    "    \n",
    "    # Fill NaN values with 0\n",
    "    emp_length_column.fillna(value=0, inplace=True)\n",
    "    \n",
    "    # Assign the modified column back to the original DataFrame\n",
    "    data_train_filtered[emp_length] = emp_length_column\n"
   ]
  },
  {
   "cell_type": "code",
   "execution_count": 47,
   "id": "f29b4899-5bac-4d33-a640-5b204e37971c",
   "metadata": {},
   "outputs": [
    {
     "data": {
      "text/plain": [
       "count        278124\n",
       "unique           11\n",
       "top       10+ years\n",
       "freq          98983\n",
       "Name: emp_length, dtype: object"
      ]
     },
     "execution_count": 47,
     "metadata": {},
     "output_type": "execute_result"
    }
   ],
   "source": [
    "# Descriptive statistics of 'emp_length'\n",
    "data_train_filtered['emp_length'].describe()"
   ]
  },
  {
   "cell_type": "markdown",
   "id": "9d6c6fb7-8de8-4079-9e51-89f9abd140f9",
   "metadata": {},
   "source": [
    "- On average, our debtors have an employment length of 5.7 years, with the shortest being 'unemployed' and the longest being 10 years."
   ]
  },
  {
   "cell_type": "code",
   "execution_count": 98,
   "id": "efebd2b3-b280-43ef-b56c-d07af0332e60",
   "metadata": {},
   "outputs": [
    {
     "data": {
      "text/plain": [
       "<Axes: xlabel='emp_length', ylabel='Count'>"
      ]
     },
     "execution_count": 98,
     "metadata": {},
     "output_type": "execute_result"
    },
    {
     "data": {
      "image/png": "[encoded data removed]",
      "text/plain": [
       "<Figure size 640x480 with 1 Axes>"
      ]
     },
     "metadata": {},
     "output_type": "display_data"
    }
   ],
   "source": [
    "# Distribution plot of 'emp_length'\n",
    "sns.histplot(data = data_train_filtered,\n",
    "             x = 'emp_length',\n",
    "             kde = True)"
   ]
  },
  {
   "cell_type": "markdown",
   "id": "9d946f4d-bb29-45c3-9029-31244ffa5fd2",
   "metadata": {},
   "source": [
    "But we have a left-skewed distribution (negatively skewed), where most of our debtors are around 5.7 years"
   ]
  },
  {
   "cell_type": "code",
   "execution_count": 49,
   "id": "1adc4a41-a15e-4f2f-91d5-5f6f760c7876",
   "metadata": {},
   "outputs": [
    {
     "data": {
      "text/html": [
       "<div>\n",
       "<style scoped>\n",
       "    .dataframe tbody tr th:only-of-type {\n",
       "        vertical-align: middle;\n",
       "    }\n",
       "\n",
       "    .dataframe tbody tr th {\n",
       "        vertical-align: top;\n",
       "    }\n",
       "\n",
       "    .dataframe thead th {\n",
       "        text-align: right;\n",
       "    }\n",
       "</style>\n",
       "<table border=\"1\" class=\"dataframe\">\n",
       "  <thead>\n",
       "    <tr style=\"text-align: right;\">\n",
       "      <th></th>\n",
       "      <th>count</th>\n",
       "      <th>unique</th>\n",
       "      <th>top</th>\n",
       "      <th>freq</th>\n",
       "    </tr>\n",
       "    <tr>\n",
       "      <th>30+DPD</th>\n",
       "      <th></th>\n",
       "      <th></th>\n",
       "      <th></th>\n",
       "      <th></th>\n",
       "    </tr>\n",
       "  </thead>\n",
       "  <tbody>\n",
       "    <tr>\n",
       "      <th>0</th>\n",
       "      <td>272990</td>\n",
       "      <td>11</td>\n",
       "      <td>10+ years</td>\n",
       "      <td>97405</td>\n",
       "    </tr>\n",
       "    <tr>\n",
       "      <th>1</th>\n",
       "      <td>5134</td>\n",
       "      <td>11</td>\n",
       "      <td>10+ years</td>\n",
       "      <td>1578</td>\n",
       "    </tr>\n",
       "  </tbody>\n",
       "</table>\n",
       "</div>"
      ],
      "text/plain": [
       "         count unique        top   freq\n",
       "30+DPD                                 \n",
       "0       272990     11  10+ years  97405\n",
       "1         5134     11  10+ years   1578"
      ]
     },
     "execution_count": 49,
     "metadata": {},
     "output_type": "execute_result"
    }
   ],
   "source": [
    "# Descriptive of 'emp_length' by response variable\n",
    "data_train_filtered['emp_length'].groupby(data_train_filtered['30+DPD']).describe()"
   ]
  },
  {
   "cell_type": "code",
   "execution_count": 99,
   "id": "9d0a835f-0de0-4852-b78e-afd83a907671",
   "metadata": {},
   "outputs": [
    {
     "data": {
      "text/plain": [
       "<Axes: xlabel='30+DPD', ylabel='emp_length'>"
      ]
     },
     "execution_count": 99,
     "metadata": {},
     "output_type": "execute_result"
    },
    {
     "data": {
      "image/png": "[encoded data removed]",
      "text/plain": [
       "<Figure size 640x480 with 1 Axes>"
      ]
     },
     "metadata": {},
     "output_type": "display_data"
    }
   ],
   "source": [
    "# Boxplot of 'emp_length' by response variable\n",
    "sns.boxplot(data = data_train_filtered,\n",
    "            x = '30+DPD',\n",
    "            y = 'emp_length')"
   ]
  },
  {
   "cell_type": "markdown",
   "id": "50a9b855-0017-4f5f-ac41-decf9333356c",
   "metadata": {},
   "source": [
    "We can see the bad accounts come from all length of employment of the borrower."
   ]
  },
  {
   "cell_type": "markdown",
   "id": "054af7ef-ee2a-413b-8d76-4f1d6e365e12",
   "metadata": {},
   "source": [
    "## **4.3 Check Correlation**\n",
    "---"
   ]
  },
  {
   "cell_type": "markdown",
   "id": "0eb8f259-6cd6-4fe0-a3b6-215d27f87871",
   "metadata": {},
   "source": [
    "We will check the Pearson correlation between numerical predictors to see whether we have multicollinearity in training set."
   ]
  },
  {
   "cell_type": "code",
   "execution_count": 51,
   "id": "bdeed5f7-3ae6-453e-baab-2a15c769b8a5",
   "metadata": {},
   "outputs": [
    {
     "name": "stdout",
     "output_type": "stream",
     "text": [
      "<class 'pandas.core.frame.DataFrame'>\n",
      "Int64Index: 294765 entries, 260455 to 254455\n",
      "Data columns (total 10 columns):\n",
      " #   Column          Non-Null Count   Dtype  \n",
      "---  ------          --------------   -----  \n",
      " 0   grade           294765 non-null  object \n",
      " 1   home_ownership  294765 non-null  object \n",
      " 2   purpose         294765 non-null  object \n",
      " 3   loan_amnt       294765 non-null  int64  \n",
      " 4   term            294765 non-null  object \n",
      " 5   int_rate        294765 non-null  float64\n",
      " 6   emp_length      278124 non-null  object \n",
      " 7   annual_inc      294765 non-null  float64\n",
      " 8   dti             294765 non-null  float64\n",
      " 9   30+DPD          294765 non-null  int64  \n",
      "dtypes: float64(3), int64(2), object(5)\n",
      "memory usage: 24.7+ MB\n"
     ]
    }
   ],
   "source": [
    "# Check for data type\n",
    "data_train_filtered.info()"
   ]
  },
  {
   "cell_type": "code",
   "execution_count": 52,
   "id": "c3abaf75-a483-45c7-bde7-0cc9f8f0b2a7",
   "metadata": {},
   "outputs": [
    {
     "data": {
      "text/html": [
       "<div>\n",
       "<style scoped>\n",
       "    .dataframe tbody tr th:only-of-type {\n",
       "        vertical-align: middle;\n",
       "    }\n",
       "\n",
       "    .dataframe tbody tr th {\n",
       "        vertical-align: top;\n",
       "    }\n",
       "\n",
       "    .dataframe thead th {\n",
       "        text-align: right;\n",
       "    }\n",
       "</style>\n",
       "<table border=\"1\" class=\"dataframe\">\n",
       "  <thead>\n",
       "    <tr style=\"text-align: right;\">\n",
       "      <th></th>\n",
       "      <th>loan_amnt</th>\n",
       "      <th>int_rate</th>\n",
       "      <th>annual_inc</th>\n",
       "      <th>dti</th>\n",
       "    </tr>\n",
       "  </thead>\n",
       "  <tbody>\n",
       "    <tr>\n",
       "      <th>loan_amnt</th>\n",
       "      <td>1.000000</td>\n",
       "      <td>0.142390</td>\n",
       "      <td>0.317137</td>\n",
       "      <td>0.005103</td>\n",
       "    </tr>\n",
       "    <tr>\n",
       "      <th>int_rate</th>\n",
       "      <td>0.142390</td>\n",
       "      <td>1.000000</td>\n",
       "      <td>-0.091224</td>\n",
       "      <td>0.066347</td>\n",
       "    </tr>\n",
       "    <tr>\n",
       "      <th>annual_inc</th>\n",
       "      <td>0.317137</td>\n",
       "      <td>-0.091224</td>\n",
       "      <td>1.000000</td>\n",
       "      <td>-0.060846</td>\n",
       "    </tr>\n",
       "    <tr>\n",
       "      <th>dti</th>\n",
       "      <td>0.005103</td>\n",
       "      <td>0.066347</td>\n",
       "      <td>-0.060846</td>\n",
       "      <td>1.000000</td>\n",
       "    </tr>\n",
       "  </tbody>\n",
       "</table>\n",
       "</div>"
      ],
      "text/plain": [
       "            loan_amnt  int_rate  annual_inc       dti\n",
       "loan_amnt    1.000000  0.142390    0.317137  0.005103\n",
       "int_rate     0.142390  1.000000   -0.091224  0.066347\n",
       "annual_inc   0.317137 -0.091224    1.000000 -0.060846\n",
       "dti          0.005103  0.066347   -0.060846  1.000000"
      ]
     },
     "execution_count": 52,
     "metadata": {},
     "output_type": "execute_result"
    }
   ],
   "source": [
    "# Calculate Pearson correlation coefficient from numerical predictors\n",
    "data_train_filtered_corr = num_columns.corr(method='pearson', numeric_only=True)\n",
    "\n",
    "data_train_filtered_corr"
   ]
  },
  {
   "cell_type": "code",
   "execution_count": 53,
   "id": "b13f67de-7048-484b-bc02-4f97cb5eac9c",
   "metadata": {},
   "outputs": [
    {
     "data": {
      "text/plain": [
       "<Axes: >"
      ]
     },
     "execution_count": 53,
     "metadata": {},
     "output_type": "execute_result"
    },
    {
     "data": {
      "image/png": "[encoded data removed]",
      "text/plain": [
       "<Figure size 640x480 with 2 Axes>"
      ]
     },
     "metadata": {},
     "output_type": "display_data"
    }
   ],
   "source": [
    "# Plot the heatmap correlation\n",
    "sns.heatmap(data = data_train_filtered_corr,\n",
    "            cmap = 'crest',\n",
    "            annot = True,\n",
    "            fmt = '.1f')"
   ]
  },
  {
   "cell_type": "markdown",
   "id": "100e4416-4a98-4ff3-a516-58ec437c3e55",
   "metadata": {},
   "source": [
    "There's no sign of multicollinearity"
   ]
  },
  {
   "cell_type": "markdown",
   "id": "4880a069-a460-4dd7-abaf-21d44c9b671c",
   "metadata": {},
   "source": [
    "# <font color='Blue'> **5. Initial Characteristic Analysis** </font>\n",
    "---"
   ]
  },
  {
   "cell_type": "markdown",
   "id": "e2cd74c3-92b6-4157-9189-009a94836a19",
   "metadata": {},
   "source": [
    "## **5.1 Characteristic Binning**"
   ]
  },
  {
   "cell_type": "markdown",
   "id": "c29f3569-b14b-4ee7-80ce-c35922c0c04e",
   "metadata": {},
   "source": [
    "Create a function for binning the numerical predictors."
   ]
  },
  {
   "cell_type": "code",
   "execution_count": 54,
   "id": "c2e144be-aa0f-4995-9b8e-e301d167ea6f",
   "metadata": {},
   "outputs": [
    {
     "name": "stdout",
     "output_type": "stream",
     "text": [
      "<class 'pandas.core.frame.DataFrame'>\n",
      "Int64Index: 294765 entries, 260455 to 254455\n",
      "Data columns (total 10 columns):\n",
      " #   Column          Non-Null Count   Dtype  \n",
      "---  ------          --------------   -----  \n",
      " 0   grade           294765 non-null  object \n",
      " 1   home_ownership  294765 non-null  object \n",
      " 2   purpose         294765 non-null  object \n",
      " 3   loan_amnt       294765 non-null  int64  \n",
      " 4   term            294765 non-null  object \n",
      " 5   int_rate        294765 non-null  float64\n",
      " 6   emp_length      278124 non-null  object \n",
      " 7   annual_inc      294765 non-null  float64\n",
      " 8   dti             294765 non-null  float64\n",
      " 9   30+DPD          294765 non-null  int64  \n",
      "dtypes: float64(3), int64(2), object(5)\n",
      "memory usage: 24.7+ MB\n"
     ]
    }
   ],
   "source": [
    "data_train_filtered.info()"
   ]
  },
  {
   "cell_type": "code",
   "execution_count": 55,
   "id": "1b449b6d-ef80-4fee-b3b9-5e76c2ce6821",
   "metadata": {},
   "outputs": [
    {
     "name": "stderr",
     "output_type": "stream",
     "text": [
      "/tmp/ipykernel_5384/2380323272.py:4: SettingWithCopyWarning: \n",
      "A value is trying to be set on a copy of a slice from a DataFrame.\n",
      "Try using .loc[row_indexer,col_indexer] = value instead\n",
      "\n",
      "See the caveats in the documentation: https://pandas.pydata.org/pandas-docs/stable/user_guide/indexing.html#returning-a-view-versus-a-copy\n",
      "  data_train_filtered['emp_length'] = data_train_filtered['emp_length'].astype(str)\n",
      "/tmp/ipykernel_5384/2380323272.py:7: SettingWithCopyWarning: \n",
      "A value is trying to be set on a copy of a slice from a DataFrame.\n",
      "Try using .loc[row_indexer,col_indexer] = value instead\n",
      "\n",
      "See the caveats in the documentation: https://pandas.pydata.org/pandas-docs/stable/user_guide/indexing.html#returning-a-view-versus-a-copy\n",
      "  data_train_filtered['emp_length'] = data_train_filtered['emp_length'].str.replace(r'[^0-9]', '', regex=True)\n",
      "/tmp/ipykernel_5384/2380323272.py:10: SettingWithCopyWarning: \n",
      "A value is trying to be set on a copy of a slice from a DataFrame.\n",
      "Try using .loc[row_indexer,col_indexer] = value instead\n",
      "\n",
      "See the caveats in the documentation: https://pandas.pydata.org/pandas-docs/stable/user_guide/indexing.html#returning-a-view-versus-a-copy\n",
      "  data_train_filtered['emp_length'] = pd.to_numeric(data_train_filtered['emp_length'], errors='coerce')\n",
      "/tmp/ipykernel_5384/2380323272.py:13: SettingWithCopyWarning: \n",
      "A value is trying to be set on a copy of a slice from a DataFrame.\n",
      "Try using .loc[row_indexer,col_indexer] = value instead\n",
      "\n",
      "See the caveats in the documentation: https://pandas.pydata.org/pandas-docs/stable/user_guide/indexing.html#returning-a-view-versus-a-copy\n",
      "  data_train_filtered['term'] = data_train_filtered['term'].astype(str)\n",
      "/tmp/ipykernel_5384/2380323272.py:16: SettingWithCopyWarning: \n",
      "A value is trying to be set on a copy of a slice from a DataFrame.\n",
      "Try using .loc[row_indexer,col_indexer] = value instead\n",
      "\n",
      "See the caveats in the documentation: https://pandas.pydata.org/pandas-docs/stable/user_guide/indexing.html#returning-a-view-versus-a-copy\n",
      "  data_train_filtered['term'] = data_train_filtered['term'].str.replace(r'[^0-9]', '', regex=True)\n",
      "/tmp/ipykernel_5384/2380323272.py:19: SettingWithCopyWarning: \n",
      "A value is trying to be set on a copy of a slice from a DataFrame.\n",
      "Try using .loc[row_indexer,col_indexer] = value instead\n",
      "\n",
      "See the caveats in the documentation: https://pandas.pydata.org/pandas-docs/stable/user_guide/indexing.html#returning-a-view-versus-a-copy\n",
      "  data_train_filtered['term'] = pd.to_numeric(data_train_filtered['term'], errors='coerce')\n"
     ]
    }
   ],
   "source": [
    "# Convert dtype of `emp_length` and `term`\n",
    "\n",
    "# Ensure the column contains string values\n",
    "data_train_filtered['emp_length'] = data_train_filtered['emp_length'].astype(str)\n",
    "\n",
    "# Clean up the text in the emp_length\n",
    "data_train_filtered['emp_length'] = data_train_filtered['emp_length'].str.replace(r'[^0-9]', '', regex=True)\n",
    "\n",
    "# Convert to numeric\n",
    "data_train_filtered['emp_length'] = pd.to_numeric(data_train_filtered['emp_length'], errors='coerce')\n",
    "\n",
    "# Ensure the column contains string values\n",
    "data_train_filtered['term'] = data_train_filtered['term'].astype(str)\n",
    "\n",
    "# Clean up the text in the term column to keep only numeric characters\n",
    "data_train_filtered['term'] = data_train_filtered['term'].str.replace(r'[^0-9]', '', regex=True)\n",
    "\n",
    "# Convert to numeric\n",
    "data_train_filtered['term'] = pd.to_numeric(data_train_filtered['term'], errors='coerce')\n"
   ]
  },
  {
   "cell_type": "code",
   "execution_count": 56,
   "id": "1c0204c5-7e26-49cf-aab6-b20d37f48c15",
   "metadata": {},
   "outputs": [
    {
     "name": "stdout",
     "output_type": "stream",
     "text": [
      "<class 'pandas.core.frame.DataFrame'>\n",
      "Int64Index: 294765 entries, 260455 to 254455\n",
      "Data columns (total 10 columns):\n",
      " #   Column          Non-Null Count   Dtype  \n",
      "---  ------          --------------   -----  \n",
      " 0   grade           294765 non-null  object \n",
      " 1   home_ownership  294765 non-null  object \n",
      " 2   purpose         294765 non-null  object \n",
      " 3   loan_amnt       294765 non-null  int64  \n",
      " 4   term            294765 non-null  int64  \n",
      " 5   int_rate        294765 non-null  float64\n",
      " 6   emp_length      278124 non-null  float64\n",
      " 7   annual_inc      294765 non-null  float64\n",
      " 8   dti             294765 non-null  float64\n",
      " 9   30+DPD          294765 non-null  int64  \n",
      "dtypes: float64(4), int64(3), object(3)\n",
      "memory usage: 24.7+ MB\n"
     ]
    }
   ],
   "source": [
    "data_train_filtered.info()"
   ]
  },
  {
   "cell_type": "code",
   "execution_count": 57,
   "id": "dc827237-bb69-48c3-9c93-d73fdfadbefa",
   "metadata": {},
   "outputs": [],
   "source": [
    "# Create a function for binning the numerical predictor\n",
    "def create_binning(data, predictor_label, num_of_bins):\n",
    "    \"\"\"\n",
    "    Function for binning a numerical predictor.\n",
    "\n",
    "    Parameters\n",
    "    ----------\n",
    "    data : DataFrame\n",
    "      The dataset.\n",
    "\n",
    "    predictor_label : str\n",
    "      The label of the predictor variable.\n",
    "\n",
    "    num_of_bins : int\n",
    "      The number of bins.\n",
    "\n",
    "    Returns\n",
    "    ------\n",
    "    data : DataFrame\n",
    "      The transformed dataset.\n",
    "    \"\"\"\n",
    "    # Create a new column containing the binned predictor\n",
    "    data.loc[:, predictor_label + \"_bin\"] = pd.qcut(data[predictor_label], q=num_of_bins, duplicates='drop')\n",
    "\n",
    "    return data"
   ]
  },
  {
   "cell_type": "code",
   "execution_count": 58,
   "id": "41f58391-2a2c-48c3-b4e5-5be9fc3e3872",
   "metadata": {},
   "outputs": [
    {
     "name": "stderr",
     "output_type": "stream",
     "text": [
      "/tmp/ipykernel_5384/1523649247.py:23: SettingWithCopyWarning: \n",
      "A value is trying to be set on a copy of a slice from a DataFrame.\n",
      "Try using .loc[row_indexer,col_indexer] = value instead\n",
      "\n",
      "See the caveats in the documentation: https://pandas.pydata.org/pandas-docs/stable/user_guide/indexing.html#returning-a-view-versus-a-copy\n",
      "  data.loc[:, predictor_label + \"_bin\"] = pd.qcut(data[predictor_label], q=num_of_bins, duplicates='drop')\n",
      "/tmp/ipykernel_5384/1523649247.py:23: SettingWithCopyWarning: \n",
      "A value is trying to be set on a copy of a slice from a DataFrame.\n",
      "Try using .loc[row_indexer,col_indexer] = value instead\n",
      "\n",
      "See the caveats in the documentation: https://pandas.pydata.org/pandas-docs/stable/user_guide/indexing.html#returning-a-view-versus-a-copy\n",
      "  data.loc[:, predictor_label + \"_bin\"] = pd.qcut(data[predictor_label], q=num_of_bins, duplicates='drop')\n",
      "/tmp/ipykernel_5384/1523649247.py:23: SettingWithCopyWarning: \n",
      "A value is trying to be set on a copy of a slice from a DataFrame.\n",
      "Try using .loc[row_indexer,col_indexer] = value instead\n",
      "\n",
      "See the caveats in the documentation: https://pandas.pydata.org/pandas-docs/stable/user_guide/indexing.html#returning-a-view-versus-a-copy\n",
      "  data.loc[:, predictor_label + \"_bin\"] = pd.qcut(data[predictor_label], q=num_of_bins, duplicates='drop')\n",
      "/tmp/ipykernel_5384/1523649247.py:23: SettingWithCopyWarning: \n",
      "A value is trying to be set on a copy of a slice from a DataFrame.\n",
      "Try using .loc[row_indexer,col_indexer] = value instead\n",
      "\n",
      "See the caveats in the documentation: https://pandas.pydata.org/pandas-docs/stable/user_guide/indexing.html#returning-a-view-versus-a-copy\n",
      "  data.loc[:, predictor_label + \"_bin\"] = pd.qcut(data[predictor_label], q=num_of_bins, duplicates='drop')\n",
      "/tmp/ipykernel_5384/1523649247.py:23: SettingWithCopyWarning: \n",
      "A value is trying to be set on a copy of a slice from a DataFrame.\n",
      "Try using .loc[row_indexer,col_indexer] = value instead\n",
      "\n",
      "See the caveats in the documentation: https://pandas.pydata.org/pandas-docs/stable/user_guide/indexing.html#returning-a-view-versus-a-copy\n",
      "  data.loc[:, predictor_label + \"_bin\"] = pd.qcut(data[predictor_label], q=num_of_bins, duplicates='drop')\n",
      "/tmp/ipykernel_5384/1523649247.py:23: SettingWithCopyWarning: \n",
      "A value is trying to be set on a copy of a slice from a DataFrame.\n",
      "Try using .loc[row_indexer,col_indexer] = value instead\n",
      "\n",
      "See the caveats in the documentation: https://pandas.pydata.org/pandas-docs/stable/user_guide/indexing.html#returning-a-view-versus-a-copy\n",
      "  data.loc[:, predictor_label + \"_bin\"] = pd.qcut(data[predictor_label], q=num_of_bins, duplicates='drop')\n"
     ]
    }
   ],
   "source": [
    "# Loop through numerical columns and apply the binning function\n",
    "for column in num_columns:\n",
    "    data_train_filtered_binned = create_binning(data=data_train_filtered, predictor_label=column, num_of_bins=4)"
   ]
  },
  {
   "cell_type": "code",
   "execution_count": 59,
   "id": "f92e7922-1ff5-45ee-a99b-b564506d4f16",
   "metadata": {},
   "outputs": [
    {
     "data": {
      "text/html": [
       "<div>\n",
       "<style scoped>\n",
       "    .dataframe tbody tr th:only-of-type {\n",
       "        vertical-align: middle;\n",
       "    }\n",
       "\n",
       "    .dataframe tbody tr th {\n",
       "        vertical-align: top;\n",
       "    }\n",
       "\n",
       "    .dataframe thead th {\n",
       "        text-align: right;\n",
       "    }\n",
       "</style>\n",
       "<table border=\"1\" class=\"dataframe\">\n",
       "  <thead>\n",
       "    <tr style=\"text-align: right;\">\n",
       "      <th></th>\n",
       "      <th>260455</th>\n",
       "      <th>340934</th>\n",
       "      <th>93453</th>\n",
       "      <th>115371</th>\n",
       "      <th>358582</th>\n",
       "      <th>291043</th>\n",
       "      <th>41932</th>\n",
       "      <th>359602</th>\n",
       "      <th>349732</th>\n",
       "      <th>180728</th>\n",
       "      <th>...</th>\n",
       "      <th>282696</th>\n",
       "      <th>245566</th>\n",
       "      <th>389863</th>\n",
       "      <th>169883</th>\n",
       "      <th>177514</th>\n",
       "      <th>19429</th>\n",
       "      <th>35779</th>\n",
       "      <th>388181</th>\n",
       "      <th>342413</th>\n",
       "      <th>254455</th>\n",
       "    </tr>\n",
       "  </thead>\n",
       "  <tbody>\n",
       "    <tr>\n",
       "      <th>grade</th>\n",
       "      <td>B</td>\n",
       "      <td>C</td>\n",
       "      <td>B</td>\n",
       "      <td>C</td>\n",
       "      <td>B</td>\n",
       "      <td>B</td>\n",
       "      <td>B</td>\n",
       "      <td>C</td>\n",
       "      <td>A</td>\n",
       "      <td>B</td>\n",
       "      <td>...</td>\n",
       "      <td>B</td>\n",
       "      <td>B</td>\n",
       "      <td>F</td>\n",
       "      <td>D</td>\n",
       "      <td>B</td>\n",
       "      <td>C</td>\n",
       "      <td>C</td>\n",
       "      <td>E</td>\n",
       "      <td>C</td>\n",
       "      <td>C</td>\n",
       "    </tr>\n",
       "    <tr>\n",
       "      <th>home_ownership</th>\n",
       "      <td>MORTGAGE</td>\n",
       "      <td>MORTGAGE</td>\n",
       "      <td>RENT</td>\n",
       "      <td>MORTGAGE</td>\n",
       "      <td>MORTGAGE</td>\n",
       "      <td>RENT</td>\n",
       "      <td>MORTGAGE</td>\n",
       "      <td>RENT</td>\n",
       "      <td>MORTGAGE</td>\n",
       "      <td>RENT</td>\n",
       "      <td>...</td>\n",
       "      <td>RENT</td>\n",
       "      <td>MORTGAGE</td>\n",
       "      <td>MORTGAGE</td>\n",
       "      <td>MORTGAGE</td>\n",
       "      <td>RENT</td>\n",
       "      <td>RENT</td>\n",
       "      <td>RENT</td>\n",
       "      <td>MORTGAGE</td>\n",
       "      <td>RENT</td>\n",
       "      <td>MORTGAGE</td>\n",
       "    </tr>\n",
       "    <tr>\n",
       "      <th>purpose</th>\n",
       "      <td>debt_consolidation</td>\n",
       "      <td>credit_card</td>\n",
       "      <td>credit_card</td>\n",
       "      <td>debt_consolidation</td>\n",
       "      <td>credit_card</td>\n",
       "      <td>moving</td>\n",
       "      <td>other</td>\n",
       "      <td>debt_consolidation</td>\n",
       "      <td>debt_consolidation</td>\n",
       "      <td>credit_card</td>\n",
       "      <td>...</td>\n",
       "      <td>debt_consolidation</td>\n",
       "      <td>credit_card</td>\n",
       "      <td>credit_card</td>\n",
       "      <td>credit_card</td>\n",
       "      <td>debt_consolidation</td>\n",
       "      <td>home_improvement</td>\n",
       "      <td>other</td>\n",
       "      <td>debt_consolidation</td>\n",
       "      <td>debt_consolidation</td>\n",
       "      <td>debt_consolidation</td>\n",
       "    </tr>\n",
       "    <tr>\n",
       "      <th>loan_amnt</th>\n",
       "      <td>6000</td>\n",
       "      <td>10000</td>\n",
       "      <td>6000</td>\n",
       "      <td>7500</td>\n",
       "      <td>14000</td>\n",
       "      <td>4000</td>\n",
       "      <td>10000</td>\n",
       "      <td>6000</td>\n",
       "      <td>15200</td>\n",
       "      <td>15000</td>\n",
       "      <td>...</td>\n",
       "      <td>24000</td>\n",
       "      <td>25000</td>\n",
       "      <td>35000</td>\n",
       "      <td>17500</td>\n",
       "      <td>3000</td>\n",
       "      <td>16000</td>\n",
       "      <td>1400</td>\n",
       "      <td>14550</td>\n",
       "      <td>8000</td>\n",
       "      <td>11000</td>\n",
       "    </tr>\n",
       "    <tr>\n",
       "      <th>term</th>\n",
       "      <td>36</td>\n",
       "      <td>36</td>\n",
       "      <td>36</td>\n",
       "      <td>36</td>\n",
       "      <td>60</td>\n",
       "      <td>36</td>\n",
       "      <td>36</td>\n",
       "      <td>36</td>\n",
       "      <td>36</td>\n",
       "      <td>36</td>\n",
       "      <td>...</td>\n",
       "      <td>60</td>\n",
       "      <td>60</td>\n",
       "      <td>60</td>\n",
       "      <td>60</td>\n",
       "      <td>36</td>\n",
       "      <td>36</td>\n",
       "      <td>36</td>\n",
       "      <td>36</td>\n",
       "      <td>36</td>\n",
       "      <td>36</td>\n",
       "    </tr>\n",
       "    <tr>\n",
       "      <th>int_rate</th>\n",
       "      <td>9.99</td>\n",
       "      <td>12.29</td>\n",
       "      <td>11.53</td>\n",
       "      <td>13.33</td>\n",
       "      <td>8.67</td>\n",
       "      <td>11.53</td>\n",
       "      <td>10.99</td>\n",
       "      <td>14.99</td>\n",
       "      <td>6.99</td>\n",
       "      <td>9.17</td>\n",
       "      <td>...</td>\n",
       "      <td>9.17</td>\n",
       "      <td>10.99</td>\n",
       "      <td>25.57</td>\n",
       "      <td>15.61</td>\n",
       "      <td>9.99</td>\n",
       "      <td>12.59</td>\n",
       "      <td>11.99</td>\n",
       "      <td>18.25</td>\n",
       "      <td>12.69</td>\n",
       "      <td>12.69</td>\n",
       "    </tr>\n",
       "    <tr>\n",
       "      <th>emp_length</th>\n",
       "      <td>1.0</td>\n",
       "      <td>10.0</td>\n",
       "      <td>1.0</td>\n",
       "      <td>10.0</td>\n",
       "      <td>7.0</td>\n",
       "      <td>1.0</td>\n",
       "      <td>1.0</td>\n",
       "      <td>1.0</td>\n",
       "      <td>10.0</td>\n",
       "      <td>3.0</td>\n",
       "      <td>...</td>\n",
       "      <td>1.0</td>\n",
       "      <td>3.0</td>\n",
       "      <td>8.0</td>\n",
       "      <td>1.0</td>\n",
       "      <td>10.0</td>\n",
       "      <td>10.0</td>\n",
       "      <td>6.0</td>\n",
       "      <td>10.0</td>\n",
       "      <td>1.0</td>\n",
       "      <td>8.0</td>\n",
       "    </tr>\n",
       "    <tr>\n",
       "      <th>annual_inc</th>\n",
       "      <td>120000.0</td>\n",
       "      <td>37500.0</td>\n",
       "      <td>25855.0</td>\n",
       "      <td>45000.0</td>\n",
       "      <td>80000.0</td>\n",
       "      <td>34000.0</td>\n",
       "      <td>50000.0</td>\n",
       "      <td>24000.0</td>\n",
       "      <td>125600.0</td>\n",
       "      <td>68000.0</td>\n",
       "      <td>...</td>\n",
       "      <td>76500.0</td>\n",
       "      <td>147000.0</td>\n",
       "      <td>200000.0</td>\n",
       "      <td>35000.0</td>\n",
       "      <td>65000.0</td>\n",
       "      <td>65000.0</td>\n",
       "      <td>42000.0</td>\n",
       "      <td>40000.0</td>\n",
       "      <td>50000.0</td>\n",
       "      <td>50000.0</td>\n",
       "    </tr>\n",
       "    <tr>\n",
       "      <th>dti</th>\n",
       "      <td>15.98</td>\n",
       "      <td>26.27</td>\n",
       "      <td>20.01</td>\n",
       "      <td>25.71</td>\n",
       "      <td>16.24</td>\n",
       "      <td>18.92</td>\n",
       "      <td>30.51</td>\n",
       "      <td>28.65</td>\n",
       "      <td>16.91</td>\n",
       "      <td>16.91</td>\n",
       "      <td>...</td>\n",
       "      <td>9.19</td>\n",
       "      <td>12.86</td>\n",
       "      <td>26.86</td>\n",
       "      <td>32.2</td>\n",
       "      <td>25.46</td>\n",
       "      <td>23.99</td>\n",
       "      <td>8.45</td>\n",
       "      <td>34.26</td>\n",
       "      <td>37.37</td>\n",
       "      <td>38.65</td>\n",
       "    </tr>\n",
       "    <tr>\n",
       "      <th>30+DPD</th>\n",
       "      <td>0</td>\n",
       "      <td>0</td>\n",
       "      <td>0</td>\n",
       "      <td>0</td>\n",
       "      <td>0</td>\n",
       "      <td>0</td>\n",
       "      <td>0</td>\n",
       "      <td>0</td>\n",
       "      <td>0</td>\n",
       "      <td>0</td>\n",
       "      <td>...</td>\n",
       "      <td>0</td>\n",
       "      <td>0</td>\n",
       "      <td>0</td>\n",
       "      <td>0</td>\n",
       "      <td>0</td>\n",
       "      <td>0</td>\n",
       "      <td>0</td>\n",
       "      <td>0</td>\n",
       "      <td>0</td>\n",
       "      <td>0</td>\n",
       "    </tr>\n",
       "    <tr>\n",
       "      <th>loan_amnt_bin</th>\n",
       "      <td>(999.999, 8500.0]</td>\n",
       "      <td>(8500.0, 14000.0]</td>\n",
       "      <td>(999.999, 8500.0]</td>\n",
       "      <td>(999.999, 8500.0]</td>\n",
       "      <td>(8500.0, 14000.0]</td>\n",
       "      <td>(999.999, 8500.0]</td>\n",
       "      <td>(8500.0, 14000.0]</td>\n",
       "      <td>(999.999, 8500.0]</td>\n",
       "      <td>(14000.0, 20000.0]</td>\n",
       "      <td>(14000.0, 20000.0]</td>\n",
       "      <td>...</td>\n",
       "      <td>(20000.0, 35000.0]</td>\n",
       "      <td>(20000.0, 35000.0]</td>\n",
       "      <td>(20000.0, 35000.0]</td>\n",
       "      <td>(14000.0, 20000.0]</td>\n",
       "      <td>(999.999, 8500.0]</td>\n",
       "      <td>(14000.0, 20000.0]</td>\n",
       "      <td>(999.999, 8500.0]</td>\n",
       "      <td>(14000.0, 20000.0]</td>\n",
       "      <td>(999.999, 8500.0]</td>\n",
       "      <td>(8500.0, 14000.0]</td>\n",
       "    </tr>\n",
       "    <tr>\n",
       "      <th>term_bin</th>\n",
       "      <td>(35.999, 60.0]</td>\n",
       "      <td>(35.999, 60.0]</td>\n",
       "      <td>(35.999, 60.0]</td>\n",
       "      <td>(35.999, 60.0]</td>\n",
       "      <td>(35.999, 60.0]</td>\n",
       "      <td>(35.999, 60.0]</td>\n",
       "      <td>(35.999, 60.0]</td>\n",
       "      <td>(35.999, 60.0]</td>\n",
       "      <td>(35.999, 60.0]</td>\n",
       "      <td>(35.999, 60.0]</td>\n",
       "      <td>...</td>\n",
       "      <td>(35.999, 60.0]</td>\n",
       "      <td>(35.999, 60.0]</td>\n",
       "      <td>(35.999, 60.0]</td>\n",
       "      <td>(35.999, 60.0]</td>\n",
       "      <td>(35.999, 60.0]</td>\n",
       "      <td>(35.999, 60.0]</td>\n",
       "      <td>(35.999, 60.0]</td>\n",
       "      <td>(35.999, 60.0]</td>\n",
       "      <td>(35.999, 60.0]</td>\n",
       "      <td>(35.999, 60.0]</td>\n",
       "    </tr>\n",
       "    <tr>\n",
       "      <th>int_rate_bin</th>\n",
       "      <td>(9.17, 12.29]</td>\n",
       "      <td>(9.17, 12.29]</td>\n",
       "      <td>(9.17, 12.29]</td>\n",
       "      <td>(12.29, 15.59]</td>\n",
       "      <td>(5.319, 9.17]</td>\n",
       "      <td>(9.17, 12.29]</td>\n",
       "      <td>(9.17, 12.29]</td>\n",
       "      <td>(12.29, 15.59]</td>\n",
       "      <td>(5.319, 9.17]</td>\n",
       "      <td>(5.319, 9.17]</td>\n",
       "      <td>...</td>\n",
       "      <td>(5.319, 9.17]</td>\n",
       "      <td>(9.17, 12.29]</td>\n",
       "      <td>(15.59, 28.99]</td>\n",
       "      <td>(15.59, 28.99]</td>\n",
       "      <td>(9.17, 12.29]</td>\n",
       "      <td>(12.29, 15.59]</td>\n",
       "      <td>(9.17, 12.29]</td>\n",
       "      <td>(15.59, 28.99]</td>\n",
       "      <td>(12.29, 15.59]</td>\n",
       "      <td>(12.29, 15.59]</td>\n",
       "    </tr>\n",
       "    <tr>\n",
       "      <th>emp_length_bin</th>\n",
       "      <td>(0.999, 2.0]</td>\n",
       "      <td>(6.0, 10.0]</td>\n",
       "      <td>(0.999, 2.0]</td>\n",
       "      <td>(6.0, 10.0]</td>\n",
       "      <td>(6.0, 10.0]</td>\n",
       "      <td>(0.999, 2.0]</td>\n",
       "      <td>(0.999, 2.0]</td>\n",
       "      <td>(0.999, 2.0]</td>\n",
       "      <td>(6.0, 10.0]</td>\n",
       "      <td>(2.0, 6.0]</td>\n",
       "      <td>...</td>\n",
       "      <td>(0.999, 2.0]</td>\n",
       "      <td>(2.0, 6.0]</td>\n",
       "      <td>(6.0, 10.0]</td>\n",
       "      <td>(0.999, 2.0]</td>\n",
       "      <td>(6.0, 10.0]</td>\n",
       "      <td>(6.0, 10.0]</td>\n",
       "      <td>(2.0, 6.0]</td>\n",
       "      <td>(6.0, 10.0]</td>\n",
       "      <td>(0.999, 2.0]</td>\n",
       "      <td>(6.0, 10.0]</td>\n",
       "    </tr>\n",
       "    <tr>\n",
       "      <th>annual_inc_bin</th>\n",
       "      <td>(91600.0, 9000000.0]</td>\n",
       "      <td>(-0.001, 46200.0]</td>\n",
       "      <td>(-0.001, 46200.0]</td>\n",
       "      <td>(-0.001, 46200.0]</td>\n",
       "      <td>(65000.0, 91600.0]</td>\n",
       "      <td>(-0.001, 46200.0]</td>\n",
       "      <td>(46200.0, 65000.0]</td>\n",
       "      <td>(-0.001, 46200.0]</td>\n",
       "      <td>(91600.0, 9000000.0]</td>\n",
       "      <td>(65000.0, 91600.0]</td>\n",
       "      <td>...</td>\n",
       "      <td>(65000.0, 91600.0]</td>\n",
       "      <td>(91600.0, 9000000.0]</td>\n",
       "      <td>(91600.0, 9000000.0]</td>\n",
       "      <td>(-0.001, 46200.0]</td>\n",
       "      <td>(46200.0, 65000.0]</td>\n",
       "      <td>(46200.0, 65000.0]</td>\n",
       "      <td>(-0.001, 46200.0]</td>\n",
       "      <td>(-0.001, 46200.0]</td>\n",
       "      <td>(46200.0, 65000.0]</td>\n",
       "      <td>(46200.0, 65000.0]</td>\n",
       "    </tr>\n",
       "    <tr>\n",
       "      <th>dti_bin</th>\n",
       "      <td>(12.58, 18.59]</td>\n",
       "      <td>(25.33, 9999.0]</td>\n",
       "      <td>(18.59, 25.33]</td>\n",
       "      <td>(25.33, 9999.0]</td>\n",
       "      <td>(12.58, 18.59]</td>\n",
       "      <td>(18.59, 25.33]</td>\n",
       "      <td>(25.33, 9999.0]</td>\n",
       "      <td>(25.33, 9999.0]</td>\n",
       "      <td>(12.58, 18.59]</td>\n",
       "      <td>(12.58, 18.59]</td>\n",
       "      <td>...</td>\n",
       "      <td>(-0.001, 12.58]</td>\n",
       "      <td>(12.58, 18.59]</td>\n",
       "      <td>(25.33, 9999.0]</td>\n",
       "      <td>(25.33, 9999.0]</td>\n",
       "      <td>(25.33, 9999.0]</td>\n",
       "      <td>(18.59, 25.33]</td>\n",
       "      <td>(-0.001, 12.58]</td>\n",
       "      <td>(25.33, 9999.0]</td>\n",
       "      <td>(25.33, 9999.0]</td>\n",
       "      <td>(25.33, 9999.0]</td>\n",
       "    </tr>\n",
       "  </tbody>\n",
       "</table>\n",
       "<p>16 rows × 294765 columns</p>\n",
       "</div>"
      ],
      "text/plain": [
       "                              260455             340934             93453   \\\n",
       "grade                              B                  C                  B   \n",
       "home_ownership              MORTGAGE           MORTGAGE               RENT   \n",
       "purpose           debt_consolidation        credit_card        credit_card   \n",
       "loan_amnt                       6000              10000               6000   \n",
       "term                              36                 36                 36   \n",
       "int_rate                        9.99              12.29              11.53   \n",
       "emp_length                       1.0               10.0                1.0   \n",
       "annual_inc                  120000.0            37500.0            25855.0   \n",
       "dti                            15.98              26.27              20.01   \n",
       "30+DPD                             0                  0                  0   \n",
       "loan_amnt_bin      (999.999, 8500.0]  (8500.0, 14000.0]  (999.999, 8500.0]   \n",
       "term_bin              (35.999, 60.0]     (35.999, 60.0]     (35.999, 60.0]   \n",
       "int_rate_bin           (9.17, 12.29]      (9.17, 12.29]      (9.17, 12.29]   \n",
       "emp_length_bin          (0.999, 2.0]        (6.0, 10.0]       (0.999, 2.0]   \n",
       "annual_inc_bin  (91600.0, 9000000.0]  (-0.001, 46200.0]  (-0.001, 46200.0]   \n",
       "dti_bin               (12.58, 18.59]    (25.33, 9999.0]     (18.59, 25.33]   \n",
       "\n",
       "                            115371              358582             291043  \\\n",
       "grade                            C                   B                  B   \n",
       "home_ownership            MORTGAGE            MORTGAGE               RENT   \n",
       "purpose         debt_consolidation         credit_card             moving   \n",
       "loan_amnt                     7500               14000               4000   \n",
       "term                            36                  60                 36   \n",
       "int_rate                     13.33                8.67              11.53   \n",
       "emp_length                    10.0                 7.0                1.0   \n",
       "annual_inc                 45000.0             80000.0            34000.0   \n",
       "dti                          25.71               16.24              18.92   \n",
       "30+DPD                           0                   0                  0   \n",
       "loan_amnt_bin    (999.999, 8500.0]   (8500.0, 14000.0]  (999.999, 8500.0]   \n",
       "term_bin            (35.999, 60.0]      (35.999, 60.0]     (35.999, 60.0]   \n",
       "int_rate_bin        (12.29, 15.59]       (5.319, 9.17]      (9.17, 12.29]   \n",
       "emp_length_bin         (6.0, 10.0]         (6.0, 10.0]       (0.999, 2.0]   \n",
       "annual_inc_bin   (-0.001, 46200.0]  (65000.0, 91600.0]  (-0.001, 46200.0]   \n",
       "dti_bin            (25.33, 9999.0]      (12.58, 18.59]     (18.59, 25.33]   \n",
       "\n",
       "                            41932               359602                349732  \\\n",
       "grade                            B                   C                     A   \n",
       "home_ownership            MORTGAGE                RENT              MORTGAGE   \n",
       "purpose                      other  debt_consolidation    debt_consolidation   \n",
       "loan_amnt                    10000                6000                 15200   \n",
       "term                            36                  36                    36   \n",
       "int_rate                     10.99               14.99                  6.99   \n",
       "emp_length                     1.0                 1.0                  10.0   \n",
       "annual_inc                 50000.0             24000.0              125600.0   \n",
       "dti                          30.51               28.65                 16.91   \n",
       "30+DPD                           0                   0                     0   \n",
       "loan_amnt_bin    (8500.0, 14000.0]   (999.999, 8500.0]    (14000.0, 20000.0]   \n",
       "term_bin            (35.999, 60.0]      (35.999, 60.0]        (35.999, 60.0]   \n",
       "int_rate_bin         (9.17, 12.29]      (12.29, 15.59]         (5.319, 9.17]   \n",
       "emp_length_bin        (0.999, 2.0]        (0.999, 2.0]           (6.0, 10.0]   \n",
       "annual_inc_bin  (46200.0, 65000.0]   (-0.001, 46200.0]  (91600.0, 9000000.0]   \n",
       "dti_bin            (25.33, 9999.0]     (25.33, 9999.0]        (12.58, 18.59]   \n",
       "\n",
       "                            180728  ...              282696  \\\n",
       "grade                            B  ...                   B   \n",
       "home_ownership                RENT  ...                RENT   \n",
       "purpose                credit_card  ...  debt_consolidation   \n",
       "loan_amnt                    15000  ...               24000   \n",
       "term                            36  ...                  60   \n",
       "int_rate                      9.17  ...                9.17   \n",
       "emp_length                     3.0  ...                 1.0   \n",
       "annual_inc                 68000.0  ...             76500.0   \n",
       "dti                          16.91  ...                9.19   \n",
       "30+DPD                           0  ...                   0   \n",
       "loan_amnt_bin   (14000.0, 20000.0]  ...  (20000.0, 35000.0]   \n",
       "term_bin            (35.999, 60.0]  ...      (35.999, 60.0]   \n",
       "int_rate_bin         (5.319, 9.17]  ...       (5.319, 9.17]   \n",
       "emp_length_bin          (2.0, 6.0]  ...        (0.999, 2.0]   \n",
       "annual_inc_bin  (65000.0, 91600.0]  ...  (65000.0, 91600.0]   \n",
       "dti_bin             (12.58, 18.59]  ...     (-0.001, 12.58]   \n",
       "\n",
       "                              245566                389863  \\\n",
       "grade                              B                     F   \n",
       "home_ownership              MORTGAGE              MORTGAGE   \n",
       "purpose                  credit_card           credit_card   \n",
       "loan_amnt                      25000                 35000   \n",
       "term                              60                    60   \n",
       "int_rate                       10.99                 25.57   \n",
       "emp_length                       3.0                   8.0   \n",
       "annual_inc                  147000.0              200000.0   \n",
       "dti                            12.86                 26.86   \n",
       "30+DPD                             0                     0   \n",
       "loan_amnt_bin     (20000.0, 35000.0]    (20000.0, 35000.0]   \n",
       "term_bin              (35.999, 60.0]        (35.999, 60.0]   \n",
       "int_rate_bin           (9.17, 12.29]        (15.59, 28.99]   \n",
       "emp_length_bin            (2.0, 6.0]           (6.0, 10.0]   \n",
       "annual_inc_bin  (91600.0, 9000000.0]  (91600.0, 9000000.0]   \n",
       "dti_bin               (12.58, 18.59]       (25.33, 9999.0]   \n",
       "\n",
       "                            169883              177514              19429   \\\n",
       "grade                            D                   B                   C   \n",
       "home_ownership            MORTGAGE                RENT                RENT   \n",
       "purpose                credit_card  debt_consolidation    home_improvement   \n",
       "loan_amnt                    17500                3000               16000   \n",
       "term                            60                  36                  36   \n",
       "int_rate                     15.61                9.99               12.59   \n",
       "emp_length                     1.0                10.0                10.0   \n",
       "annual_inc                 35000.0             65000.0             65000.0   \n",
       "dti                           32.2               25.46               23.99   \n",
       "30+DPD                           0                   0                   0   \n",
       "loan_amnt_bin   (14000.0, 20000.0]   (999.999, 8500.0]  (14000.0, 20000.0]   \n",
       "term_bin            (35.999, 60.0]      (35.999, 60.0]      (35.999, 60.0]   \n",
       "int_rate_bin        (15.59, 28.99]       (9.17, 12.29]      (12.29, 15.59]   \n",
       "emp_length_bin        (0.999, 2.0]         (6.0, 10.0]         (6.0, 10.0]   \n",
       "annual_inc_bin   (-0.001, 46200.0]  (46200.0, 65000.0]  (46200.0, 65000.0]   \n",
       "dti_bin            (25.33, 9999.0]     (25.33, 9999.0]      (18.59, 25.33]   \n",
       "\n",
       "                           35779               388181              342413  \\\n",
       "grade                           C                   E                   C   \n",
       "home_ownership               RENT            MORTGAGE                RENT   \n",
       "purpose                     other  debt_consolidation  debt_consolidation   \n",
       "loan_amnt                    1400               14550                8000   \n",
       "term                           36                  36                  36   \n",
       "int_rate                    11.99               18.25               12.69   \n",
       "emp_length                    6.0                10.0                 1.0   \n",
       "annual_inc                42000.0             40000.0             50000.0   \n",
       "dti                          8.45               34.26               37.37   \n",
       "30+DPD                          0                   0                   0   \n",
       "loan_amnt_bin   (999.999, 8500.0]  (14000.0, 20000.0]   (999.999, 8500.0]   \n",
       "term_bin           (35.999, 60.0]      (35.999, 60.0]      (35.999, 60.0]   \n",
       "int_rate_bin        (9.17, 12.29]      (15.59, 28.99]      (12.29, 15.59]   \n",
       "emp_length_bin         (2.0, 6.0]         (6.0, 10.0]        (0.999, 2.0]   \n",
       "annual_inc_bin  (-0.001, 46200.0]   (-0.001, 46200.0]  (46200.0, 65000.0]   \n",
       "dti_bin           (-0.001, 12.58]     (25.33, 9999.0]     (25.33, 9999.0]   \n",
       "\n",
       "                            254455  \n",
       "grade                            C  \n",
       "home_ownership            MORTGAGE  \n",
       "purpose         debt_consolidation  \n",
       "loan_amnt                    11000  \n",
       "term                            36  \n",
       "int_rate                     12.69  \n",
       "emp_length                     8.0  \n",
       "annual_inc                 50000.0  \n",
       "dti                          38.65  \n",
       "30+DPD                           0  \n",
       "loan_amnt_bin    (8500.0, 14000.0]  \n",
       "term_bin            (35.999, 60.0]  \n",
       "int_rate_bin        (12.29, 15.59]  \n",
       "emp_length_bin         (6.0, 10.0]  \n",
       "annual_inc_bin  (46200.0, 65000.0]  \n",
       "dti_bin            (25.33, 9999.0]  \n",
       "\n",
       "[16 rows x 294765 columns]"
      ]
     },
     "execution_count": 59,
     "metadata": {},
     "output_type": "execute_result"
    }
   ],
   "source": [
    "data_train_filtered_binned.T"
   ]
  },
  {
   "cell_type": "markdown",
   "id": "9bd39249-f127-49ab-b818-f2dd3c7c522d",
   "metadata": {},
   "source": [
    "## **5.2 WoE and IV**\n",
    "\n",
    "To assess the strength of each characteristic individually as a predictor of the credit performance.\n",
    "\n",
    "First, create a contingency table/crosstab for all predictors: numerical and categorical predictors."
   ]
  },
  {
   "cell_type": "code",
   "execution_count": 76,
   "id": "e905fb17-615f-4eab-8082-8801e0dded35",
   "metadata": {},
   "outputs": [],
   "source": [
    "# Define the initial empty list\n",
    "crosstab_num = []\n",
    "\n",
    "for column in num_columns:\n",
    "\n",
    "  # Create a contingency table\n",
    "  crosstab = pd.crosstab(data_train_filtered_binned[column + \"_bin\"],\n",
    "                         data_train_filtered_binned[response_variable],\n",
    "                         margins = True)\n",
    "\n",
    "  # Append to the list\n",
    "  crosstab_num.append(crosstab)"
   ]
  },
  {
   "cell_type": "code",
   "execution_count": 77,
   "id": "8eb39869-f0ac-44f7-9ed0-2003e8e4a041",
   "metadata": {},
   "outputs": [],
   "source": [
    "# Define the initial empty list\n",
    "crosstab_cat = []\n",
    "\n",
    "for column in cat_columns:\n",
    "\n",
    "  # Create a contingency table\n",
    "  crosstab = pd.crosstab(data_train_filtered_binned[column],\n",
    "                         data_train_filtered_binned[response_variable],\n",
    "                         margins = True)\n",
    "\n",
    "  # Append to the list\n",
    "  crosstab_cat.append(crosstab)"
   ]
  },
  {
   "cell_type": "code",
   "execution_count": 79,
   "id": "4a8a1611-17f9-4b44-a9cf-cfc9fe43faa3",
   "metadata": {},
   "outputs": [
    {
     "data": {
      "text/plain": [
       "[30+DPD                   0     1     All\n",
       " loan_amnt_bin                           \n",
       " (999.999, 8500.0]    72659  1318   73977\n",
       " (8500.0, 14000.0]    74727  1472   76199\n",
       " (14000.0, 20000.0]   71251  1359   72610\n",
       " (20000.0, 35000.0]   70632  1347   71979\n",
       " All                 289269  5496  294765,\n",
       " 30+DPD               0     1     All\n",
       " term_bin                            \n",
       " (35.999, 60.0]  289269  5496  294765\n",
       " All             289269  5496  294765,\n",
       " 30+DPD               0     1     All\n",
       " int_rate_bin                        \n",
       " (5.319, 9.17]    80590   339   80929\n",
       " (9.17, 12.29]    68435   753   69188\n",
       " (12.29, 15.59]   69616  1367   70983\n",
       " (15.59, 28.99]   70628  3037   73665\n",
       " All             289269  5496  294765,\n",
       " 30+DPD               0     1     All\n",
       " emp_length_bin                      \n",
       " (0.999, 2.0]     68203  1474   69677\n",
       " (2.0, 6.0]       68394  1351   69745\n",
       " (6.0, 10.0]     136393  2309  138702\n",
       " All             272990  5134  278124,\n",
       " 30+DPD                     0     1     All\n",
       " annual_inc_bin                            \n",
       " (-0.001, 46200.0]      71950  1749   73699\n",
       " (46200.0, 65000.0]     76261  1485   77746\n",
       " (65000.0, 91600.0]     68432  1200   69632\n",
       " (91600.0, 9000000.0]   72626  1062   73688\n",
       " All                   289269  5496  294765,\n",
       " 30+DPD                0     1     All\n",
       " dti_bin                              \n",
       " (-0.001, 12.58]   72675  1112   73787\n",
       " (12.58, 18.59]    72454  1177   73631\n",
       " (18.59, 25.33]    72366  1348   73714\n",
       " (25.33, 9999.0]   71774  1859   73633\n",
       " All              289269  5496  294765,\n",
       " 30+DPD       0     1     All\n",
       " grade                       \n",
       " A        51229   168   51397\n",
       " B        81392   732   82124\n",
       " C        82951  1465   84416\n",
       " D        42520  1442   43962\n",
       " E        23381  1065   24446\n",
       " F         6408   478    6886\n",
       " G         1388   146    1534\n",
       " All     289269  5496  294765,\n",
       " 30+DPD               0     1     All\n",
       " home_ownership                      \n",
       " ANY                  2     0       2\n",
       " MORTGAGE        143048  2167  145215\n",
       " OWN              31256   614   31870\n",
       " RENT            114963  2715  117678\n",
       " All             289269  5496  294765,\n",
       " 30+DPD                   0     1     All\n",
       " purpose                                 \n",
       " car                   2369    40    2409\n",
       " credit_card          70656   854   71510\n",
       " debt_consolidation  171361  3531  174892\n",
       " educational              1     0       1\n",
       " home_improvement     17391   308   17699\n",
       " house                  967    31     998\n",
       " major_purchase        5080   135    5215\n",
       " medical               2724    86    2810\n",
       " moving                1647    57    1704\n",
       " other                13119   316   13435\n",
       " renewable_energy       151     7     158\n",
       " small_business        2269    96    2365\n",
       " vacation              1532    34    1566\n",
       " wedding                  2     1       3\n",
       " All                 289269  5496  294765]"
      ]
     },
     "execution_count": 79,
     "metadata": {},
     "output_type": "execute_result"
    }
   ],
   "source": [
    "# Put all two in a crosstab_list\n",
    "crosstab_list = crosstab_num + crosstab_cat\n",
    "\n",
    "crosstab_list"
   ]
  },
  {
   "cell_type": "markdown",
   "id": "7bbece42-4e87-4fff-847e-3ffa3fcd7da9",
   "metadata": {},
   "source": [
    "Next, calculate the WOE and IV for each crosstab.\n",
    "\n",
    "- Weight of Evidence (WoE) — measures the strength of each attribute.\n",
    "\n",
    "$$\n",
    "\\begin{align*}\n",
    "W_i &= \\ln ( \\% \\text{Good} / \\% \\text{Bad} ) \\\\\n",
    "W_i &= \\ln \\left ( \\left ( \\frac{N_i}{\\sum N} \\right ) / \\left ( \\frac{P_i}{\\sum P} \\right )\\right ) \\\\\n",
    "\\end{align*}\n",
    "$$\n",
    "\n",
    "- Information Value (IV) — measures the total strength of the characteristic.\n",
    "\n",
    "$$\n",
    "\\begin{align*}\n",
    "IV &= \\sum_{i=1}^{n} ( \\% \\text{Good} - \\% \\text{Bad} ) \\times W_i \\\\\n",
    "IV &= \\sum_{i=1}^{n}\\left [ \\left ( \\frac{N_i}{\\sum N} - \\frac{P_i}{\\sum P} \\right ) \\times W_i \\right ] \\\\\n",
    "\\end{align*}\n",
    "$$"
   ]
  },
  {
   "cell_type": "code",
   "execution_count": 80,
   "id": "c3673409-2778-420f-82b4-2fbae880a95c",
   "metadata": {
    "scrolled": true
   },
   "outputs": [],
   "source": [
    "# Define the initial list for WOE\n",
    "WOE_list = []\n",
    "\n",
    "# Define the initial list for IV\n",
    "IV_list = []\n",
    "\n",
    "# Create the initial table for IV\n",
    "IV_table = pd.DataFrame({'Characteristic': [],\n",
    "                         'Information Value' : []})\n",
    "\n",
    "# Perform the algorithm for all crosstab\n",
    "for crosstab in crosstab_list:\n",
    "\n",
    "  # Calculate % Good\n",
    "    crosstab['p_good'] = crosstab[0]/crosstab[0]['All']\n",
    "\n",
    "  # Calculate % Bad\n",
    "    crosstab['p_bad'] = crosstab[1]/crosstab[1]['All']\n",
    "\n",
    "  # Calculate the WOE\n",
    "    crosstab['WOE'] = np.log((crosstab['p_good'] + 1e-10) / (crosstab['p_bad'] + 1e-10))\n",
    "\n",
    "  # Calculate the contribution value for IV\n",
    "    crosstab['contribution'] = (crosstab['p_good']-crosstab['p_bad'])*crosstab['WOE']\n",
    "\n",
    "  # Calculate the IV\n",
    "    IV = crosstab['contribution'][:-1].sum()\n",
    "    \n",
    "    add_IV = {'Characteristic': crosstab.index.name,\n",
    "            'Information Value': IV}\n",
    "    \n",
    "    WOE_list.append(crosstab)\n",
    "    IV_list.append(add_IV)"
   ]
  },
  {
   "cell_type": "code",
   "execution_count": 81,
   "id": "decf975d-54c9-401e-ab56-33f74510c227",
   "metadata": {},
   "outputs": [
    {
     "data": {
      "text/plain": [
       "[30+DPD                   0     1     All    p_good     p_bad       WOE  \\\n",
       " loan_amnt_bin                                                            \n",
       " (999.999, 8500.0]    72659  1318   73977  0.251181  0.239811  0.046325   \n",
       " (8500.0, 14000.0]    74727  1472   76199  0.258330  0.267831 -0.036117   \n",
       " (14000.0, 20000.0]   71251  1359   72610  0.246314  0.247271 -0.003877   \n",
       " (20000.0, 35000.0]   70632  1347   71979  0.244174  0.245087 -0.003733   \n",
       " All                 289269  5496  294765  1.000000  1.000000  0.000000   \n",
       " \n",
       " 30+DPD              contribution  \n",
       " loan_amnt_bin                     \n",
       " (999.999, 8500.0]       0.000527  \n",
       " (8500.0, 14000.0]       0.000343  \n",
       " (14000.0, 20000.0]      0.000004  \n",
       " (20000.0, 35000.0]      0.000003  \n",
       " All                     0.000000  ,\n",
       " 30+DPD               0     1     All  p_good  p_bad  WOE  contribution\n",
       " term_bin                                                              \n",
       " (35.999, 60.0]  289269  5496  294765     1.0    1.0  0.0           0.0\n",
       " All             289269  5496  294765     1.0    1.0  0.0           0.0,\n",
       " 30+DPD               0     1     All    p_good     p_bad       WOE  \\\n",
       " int_rate_bin                                                         \n",
       " (5.319, 9.17]    80590   339   80929  0.278599  0.061681  1.507793   \n",
       " (9.17, 12.29]    68435   753   69188  0.236579  0.137009  0.546238   \n",
       " (12.29, 15.59]   69616  1367   70983  0.240662  0.248726 -0.032961   \n",
       " (15.59, 28.99]   70628  3037   73665  0.244160  0.552584 -0.816780   \n",
       " All             289269  5496  294765  1.000000  1.000000  0.000000   \n",
       " \n",
       " 30+DPD          contribution  \n",
       " int_rate_bin                  \n",
       " (5.319, 9.17]       0.327067  \n",
       " (9.17, 12.29]       0.054389  \n",
       " (12.29, 15.59]      0.000266  \n",
       " (15.59, 28.99]      0.251914  \n",
       " All                 0.000000  ,\n",
       " 30+DPD               0     1     All    p_good     p_bad       WOE  \\\n",
       " emp_length_bin                                                       \n",
       " (0.999, 2.0]     68203  1474   69677  0.249837  0.287106 -0.139041   \n",
       " (2.0, 6.0]       68394  1351   69745  0.250537  0.263148 -0.049110   \n",
       " (6.0, 10.0]     136393  2309  138702  0.499626  0.449747  0.105176   \n",
       " All             272990  5134  278124  1.000000  1.000000  0.000000   \n",
       " \n",
       " 30+DPD          contribution  \n",
       " emp_length_bin                \n",
       " (0.999, 2.0]        0.005182  \n",
       " (2.0, 6.0]          0.000619  \n",
       " (6.0, 10.0]         0.005246  \n",
       " All                 0.000000  ,\n",
       " 30+DPD                     0     1     All    p_good     p_bad       WOE  \\\n",
       " annual_inc_bin                                                             \n",
       " (-0.001, 46200.0]      71950  1749   73699  0.248730  0.318231 -0.246409   \n",
       " (46200.0, 65000.0]     76261  1485   77746  0.263634  0.270197 -0.024590   \n",
       " (65000.0, 91600.0]     68432  1200   69632  0.236569  0.218341  0.080182   \n",
       " (91600.0, 9000000.0]   72626  1062   73688  0.251067  0.193231  0.261833   \n",
       " All                   289269  5496  294765  1.000000  1.000000  0.000000   \n",
       " \n",
       " 30+DPD                contribution  \n",
       " annual_inc_bin                      \n",
       " (-0.001, 46200.0]         0.017126  \n",
       " (46200.0, 65000.0]        0.000161  \n",
       " (65000.0, 91600.0]        0.001462  \n",
       " (91600.0, 9000000.0]      0.015143  \n",
       " All                       0.000000  ,\n",
       " 30+DPD                0     1     All    p_good     p_bad       WOE  \\\n",
       " dti_bin                                                               \n",
       " (-0.001, 12.58]   72675  1112   73787  0.251237  0.202329  0.216501   \n",
       " (12.58, 18.59]    72454  1177   73631  0.250473  0.214156  0.156647   \n",
       " (18.59, 25.33]    72366  1348   73714  0.250169  0.245269  0.019778   \n",
       " (25.33, 9999.0]   71774  1859   73633  0.248122  0.338246 -0.309853   \n",
       " All              289269  5496  294765  1.000000  1.000000  0.000000   \n",
       " \n",
       " 30+DPD           contribution  \n",
       " dti_bin                        \n",
       " (-0.001, 12.58]      0.010589  \n",
       " (12.58, 18.59]       0.005689  \n",
       " (18.59, 25.33]       0.000097  \n",
       " (25.33, 9999.0]      0.027925  \n",
       " All                  0.000000  ,\n",
       " 30+DPD       0     1     All    p_good     p_bad       WOE  contribution\n",
       " grade                                                                   \n",
       " A        51229   168   51397  0.177098  0.030568  1.756761      0.257419\n",
       " B        81392   732   82124  0.281371  0.133188  0.747915      0.110829\n",
       " C        82951  1465   84416  0.286761  0.266557  0.073058      0.001476\n",
       " D        42520  1442   43962  0.146991  0.262373 -0.579393      0.066851\n",
       " E        23381  1065   24446  0.080828  0.193777 -0.874388      0.098762\n",
       " F         6408   478    6886  0.022152  0.086972 -1.367645      0.088651\n",
       " G         1388   146    1534  0.004798  0.026565 -1.711324      0.037249\n",
       " All     289269  5496  294765  1.000000  1.000000  0.000000      0.000000,\n",
       " 30+DPD               0     1     All    p_good     p_bad        WOE  \\\n",
       " home_ownership                                                        \n",
       " ANY                  2     0       2  0.000007  0.000000  11.143900   \n",
       " MORTGAGE        143048  2167  145215  0.494515  0.394287   0.226500   \n",
       " OWN              31256   614   31870  0.108052  0.111718  -0.033365   \n",
       " RENT            114963  2715  117678  0.397426  0.493996  -0.217518   \n",
       " All             289269  5496  294765  1.000000  1.000000   0.000000   \n",
       " \n",
       " 30+DPD          contribution  \n",
       " home_ownership                \n",
       " ANY                 0.000077  \n",
       " MORTGAGE            0.022702  \n",
       " OWN                 0.000122  \n",
       " RENT                0.021006  \n",
       " All                 0.000000  ,\n",
       " 30+DPD                   0     1     All    p_good     p_bad        WOE  \\\n",
       " purpose                                                                   \n",
       " car                   2369    40    2409  0.008190  0.007278   0.118007   \n",
       " credit_card          70656   854   71510  0.244257  0.155386   0.452311   \n",
       " debt_consolidation  171361  3531  174892  0.592393  0.642467  -0.081145   \n",
       " educational              1     0       1  0.000003  0.000000  10.450768   \n",
       " home_improvement     17391   308   17699  0.060121  0.056041   0.070272   \n",
       " house                  967    31     998  0.003343  0.005640  -0.523125   \n",
       " major_purchase        5080   135    5215  0.017562  0.024563  -0.335545   \n",
       " medical               2724    86    2810  0.009417  0.015648  -0.507827   \n",
       " moving                1647    57    1704  0.005694  0.010371  -0.599677   \n",
       " other                13119   316   13435  0.045352  0.057496  -0.237262   \n",
       " renewable_energy       151     7     158  0.000522  0.001274  -0.891967   \n",
       " small_business        2269    96    2365  0.007844  0.017467  -0.800590   \n",
       " vacation              1532    34    1566  0.005296  0.006186  -0.155368   \n",
       " wedding                  2     1       3  0.000007  0.000182  -3.270175   \n",
       " All                 289269  5496  294765  1.000000  1.000000   0.000000   \n",
       " \n",
       " 30+DPD              contribution  \n",
       " purpose                           \n",
       " car                     0.000108  \n",
       " credit_card             0.040197  \n",
       " debt_consolidation      0.004063  \n",
       " educational             0.000036  \n",
       " home_improvement        0.000287  \n",
       " house                   0.001202  \n",
       " major_purchase          0.002349  \n",
       " medical                 0.003164  \n",
       " moving                  0.002805  \n",
       " other                   0.002881  \n",
       " renewable_energy        0.000670  \n",
       " small_business          0.007704  \n",
       " vacation                0.000138  \n",
       " wedding                 0.000572  \n",
       " All                     0.000000  ]"
      ]
     },
     "execution_count": 81,
     "metadata": {},
     "output_type": "execute_result"
    }
   ],
   "source": [
    "WOE_list"
   ]
  },
  {
   "cell_type": "code",
   "execution_count": 82,
   "id": "6a77f010-566a-4f98-a8e6-99c7ba131489",
   "metadata": {},
   "outputs": [
    {
     "data": {
      "text/html": [
       "<div>\n",
       "<style scoped>\n",
       "    .dataframe tbody tr th:only-of-type {\n",
       "        vertical-align: middle;\n",
       "    }\n",
       "\n",
       "    .dataframe tbody tr th {\n",
       "        vertical-align: top;\n",
       "    }\n",
       "\n",
       "    .dataframe thead th {\n",
       "        text-align: right;\n",
       "    }\n",
       "</style>\n",
       "<table border=\"1\" class=\"dataframe\">\n",
       "  <thead>\n",
       "    <tr style=\"text-align: right;\">\n",
       "      <th></th>\n",
       "      <th>Characteristic</th>\n",
       "      <th>Information Value</th>\n",
       "    </tr>\n",
       "  </thead>\n",
       "  <tbody>\n",
       "    <tr>\n",
       "      <th>0</th>\n",
       "      <td>loan_amnt_bin</td>\n",
       "      <td>0.000877</td>\n",
       "    </tr>\n",
       "    <tr>\n",
       "      <th>1</th>\n",
       "      <td>term_bin</td>\n",
       "      <td>0.000000</td>\n",
       "    </tr>\n",
       "    <tr>\n",
       "      <th>2</th>\n",
       "      <td>int_rate_bin</td>\n",
       "      <td>0.633636</td>\n",
       "    </tr>\n",
       "    <tr>\n",
       "      <th>3</th>\n",
       "      <td>emp_length_bin</td>\n",
       "      <td>0.011047</td>\n",
       "    </tr>\n",
       "    <tr>\n",
       "      <th>4</th>\n",
       "      <td>annual_inc_bin</td>\n",
       "      <td>0.033892</td>\n",
       "    </tr>\n",
       "    <tr>\n",
       "      <th>5</th>\n",
       "      <td>dti_bin</td>\n",
       "      <td>0.044300</td>\n",
       "    </tr>\n",
       "    <tr>\n",
       "      <th>6</th>\n",
       "      <td>grade</td>\n",
       "      <td>0.661237</td>\n",
       "    </tr>\n",
       "    <tr>\n",
       "      <th>7</th>\n",
       "      <td>home_ownership</td>\n",
       "      <td>0.043907</td>\n",
       "    </tr>\n",
       "    <tr>\n",
       "      <th>8</th>\n",
       "      <td>purpose</td>\n",
       "      <td>0.066179</td>\n",
       "    </tr>\n",
       "  </tbody>\n",
       "</table>\n",
       "</div>"
      ],
      "text/plain": [
       "   Characteristic  Information Value\n",
       "0   loan_amnt_bin           0.000877\n",
       "1        term_bin           0.000000\n",
       "2    int_rate_bin           0.633636\n",
       "3  emp_length_bin           0.011047\n",
       "4  annual_inc_bin           0.033892\n",
       "5         dti_bin           0.044300\n",
       "6           grade           0.661237\n",
       "7  home_ownership           0.043907\n",
       "8         purpose           0.066179"
      ]
     },
     "execution_count": 82,
     "metadata": {},
     "output_type": "execute_result"
    }
   ],
   "source": [
    "# Put all IV in the table\n",
    "IV_table = pd.concat([IV_table, pd.DataFrame(IV_list)], ignore_index=True)\n",
    "IV_table"
   ]
  },
  {
   "cell_type": "markdown",
   "id": "d491a4ae-a56d-47a8-8e7d-6edff4f74644",
   "metadata": {},
   "source": [
    "The rule of thumb regarding IV:\r\n",
    "- Less than 0.02 : generally unpredictive\r\n",
    "- 0.02 to 0.1 : weak\r\n",
    "- 0.1 to 0.3 : medium\r\n",
    "- 0.3+ : strong"
   ]
  },
  {
   "cell_type": "code",
   "execution_count": 83,
   "id": "8626dc26-f015-47ae-8994-5e3616834112",
   "metadata": {},
   "outputs": [
    {
     "data": {
      "text/html": [
       "<div>\n",
       "<style scoped>\n",
       "    .dataframe tbody tr th:only-of-type {\n",
       "        vertical-align: middle;\n",
       "    }\n",
       "\n",
       "    .dataframe tbody tr th {\n",
       "        vertical-align: top;\n",
       "    }\n",
       "\n",
       "    .dataframe thead th {\n",
       "        text-align: right;\n",
       "    }\n",
       "</style>\n",
       "<table border=\"1\" class=\"dataframe\">\n",
       "  <thead>\n",
       "    <tr style=\"text-align: right;\">\n",
       "      <th></th>\n",
       "      <th>Characteristic</th>\n",
       "      <th>Information Value</th>\n",
       "      <th>Strength</th>\n",
       "    </tr>\n",
       "  </thead>\n",
       "  <tbody>\n",
       "    <tr>\n",
       "      <th>1</th>\n",
       "      <td>term_bin</td>\n",
       "      <td>0.000000</td>\n",
       "      <td>Unpredictive</td>\n",
       "    </tr>\n",
       "    <tr>\n",
       "      <th>0</th>\n",
       "      <td>loan_amnt_bin</td>\n",
       "      <td>0.000877</td>\n",
       "      <td>Unpredictive</td>\n",
       "    </tr>\n",
       "    <tr>\n",
       "      <th>3</th>\n",
       "      <td>emp_length_bin</td>\n",
       "      <td>0.011047</td>\n",
       "      <td>Unpredictive</td>\n",
       "    </tr>\n",
       "    <tr>\n",
       "      <th>4</th>\n",
       "      <td>annual_inc_bin</td>\n",
       "      <td>0.033892</td>\n",
       "      <td>Weak</td>\n",
       "    </tr>\n",
       "    <tr>\n",
       "      <th>7</th>\n",
       "      <td>home_ownership</td>\n",
       "      <td>0.043907</td>\n",
       "      <td>Weak</td>\n",
       "    </tr>\n",
       "    <tr>\n",
       "      <th>5</th>\n",
       "      <td>dti_bin</td>\n",
       "      <td>0.044300</td>\n",
       "      <td>Weak</td>\n",
       "    </tr>\n",
       "    <tr>\n",
       "      <th>8</th>\n",
       "      <td>purpose</td>\n",
       "      <td>0.066179</td>\n",
       "      <td>Weak</td>\n",
       "    </tr>\n",
       "    <tr>\n",
       "      <th>2</th>\n",
       "      <td>int_rate_bin</td>\n",
       "      <td>0.633636</td>\n",
       "      <td>Strong</td>\n",
       "    </tr>\n",
       "    <tr>\n",
       "      <th>6</th>\n",
       "      <td>grade</td>\n",
       "      <td>0.661237</td>\n",
       "      <td>Strong</td>\n",
       "    </tr>\n",
       "  </tbody>\n",
       "</table>\n",
       "</div>"
      ],
      "text/plain": [
       "   Characteristic  Information Value      Strength\n",
       "1        term_bin           0.000000  Unpredictive\n",
       "0   loan_amnt_bin           0.000877  Unpredictive\n",
       "3  emp_length_bin           0.011047  Unpredictive\n",
       "4  annual_inc_bin           0.033892          Weak\n",
       "7  home_ownership           0.043907          Weak\n",
       "5         dti_bin           0.044300          Weak\n",
       "8         purpose           0.066179          Weak\n",
       "2    int_rate_bin           0.633636        Strong\n",
       "6           grade           0.661237        Strong"
      ]
     },
     "execution_count": 83,
     "metadata": {},
     "output_type": "execute_result"
    }
   ],
   "source": [
    "# Define the predictive power of each characteristic\n",
    "strength = []\n",
    "\n",
    "# Assign the rule of thumb regarding IV\n",
    "for iv in IV_table['Information Value']:\n",
    "  if iv < 0.02:\n",
    "    strength.append('Unpredictive')\n",
    "  elif iv >= 0.02 and iv < 0.1:\n",
    "    strength.append('Weak')\n",
    "  elif iv >= 0.1 and iv < 0.3:\n",
    "    strength.append('Medium')\n",
    "  else:\n",
    "    strength.append('Strong')\n",
    "\n",
    "# Assign the strength to each characteristic\n",
    "IV_table = IV_table.assign(Strength = strength)\n",
    "\n",
    "# Sort the table by the IV values\n",
    "IV_table.sort_values(by='Information Value')"
   ]
  },
  {
   "cell_type": "markdown",
   "id": "28ebcb7c-b8c0-4bcb-87a6-9cb878f41fda",
   "metadata": {},
   "source": [
    "We have 3 unpredictive and 4 weak characteristics.\n",
    "\n",
    "Before performing model selection in modeling, we will check the independency between each characteristic with the response variable `30+DPD`.\n",
    "\n",
    "Before that, we'll check the logical trend and operational/business considerations from the WOE in each characteristic."
   ]
  },
  {
   "cell_type": "markdown",
   "id": "39978556-05ae-47d5-a394-aaa2a156fc12",
   "metadata": {},
   "source": [
    "### **5.3 Check Logical Trend and Business Consideration**\n",
    "---\n",
    "\n",
    "In grouped scorecards, the attribute strengths must also be in a logical order, and make operational sense."
   ]
  },
  {
   "cell_type": "code",
   "execution_count": 84,
   "id": "b70f6a22-f799-4dea-a45c-7b21fefa0ee2",
   "metadata": {},
   "outputs": [],
   "source": [
    "# Create a funtion to plot the WOE\n",
    "def plot_WOE(crosstab):\n",
    "  \"\"\"\n",
    "  Function to plot the WOE trend.\n",
    "\n",
    "  Parameters\n",
    "  ----------\n",
    "  crosstab : DataFrame\n",
    "    The cross tabulation of the characteristic.\n",
    "\n",
    "  \"\"\"\n",
    "  # Define the plot size\n",
    "  plt.figure(figsize = (8,4))\n",
    "\n",
    "  # Plot the WOE\n",
    "  sns.pointplot(x = crosstab.T.columns,\n",
    "                y = 'WOE',\n",
    "                data = crosstab,\n",
    "                markers = 'o',\n",
    "                linestyles = '--',\n",
    "                color = 'blue')\n",
    "\n",
    "  # Rotate the label of x-axis\n",
    "  plt.xticks(rotation = 20)\n"
   ]
  },
  {
   "cell_type": "markdown",
   "id": "2be72a5c-b3fe-4888-b7f6-950a60646843",
   "metadata": {},
   "source": [
    "#### Characteristic 1: emp_length_bin\n",
    "---"
   ]
  },
  {
   "cell_type": "code",
   "execution_count": 85,
   "id": "112750d7-3419-41ec-b664-fc8843124ed1",
   "metadata": {},
   "outputs": [
    {
     "data": {
      "text/html": [
       "<div>\n",
       "<style scoped>\n",
       "    .dataframe tbody tr th:only-of-type {\n",
       "        vertical-align: middle;\n",
       "    }\n",
       "\n",
       "    .dataframe tbody tr th {\n",
       "        vertical-align: top;\n",
       "    }\n",
       "\n",
       "    .dataframe thead th {\n",
       "        text-align: right;\n",
       "    }\n",
       "</style>\n",
       "<table border=\"1\" class=\"dataframe\">\n",
       "  <thead>\n",
       "    <tr style=\"text-align: right;\">\n",
       "      <th>30+DPD</th>\n",
       "      <th>0</th>\n",
       "      <th>1</th>\n",
       "      <th>All</th>\n",
       "      <th>p_good</th>\n",
       "      <th>p_bad</th>\n",
       "      <th>WOE</th>\n",
       "      <th>contribution</th>\n",
       "    </tr>\n",
       "    <tr>\n",
       "      <th>loan_amnt_bin</th>\n",
       "      <th></th>\n",
       "      <th></th>\n",
       "      <th></th>\n",
       "      <th></th>\n",
       "      <th></th>\n",
       "      <th></th>\n",
       "      <th></th>\n",
       "    </tr>\n",
       "  </thead>\n",
       "  <tbody>\n",
       "    <tr>\n",
       "      <th>(999.999, 8500.0]</th>\n",
       "      <td>72659</td>\n",
       "      <td>1318</td>\n",
       "      <td>73977</td>\n",
       "      <td>0.251181</td>\n",
       "      <td>0.239811</td>\n",
       "      <td>0.046325</td>\n",
       "      <td>0.000527</td>\n",
       "    </tr>\n",
       "    <tr>\n",
       "      <th>(8500.0, 14000.0]</th>\n",
       "      <td>74727</td>\n",
       "      <td>1472</td>\n",
       "      <td>76199</td>\n",
       "      <td>0.258330</td>\n",
       "      <td>0.267831</td>\n",
       "      <td>-0.036117</td>\n",
       "      <td>0.000343</td>\n",
       "    </tr>\n",
       "    <tr>\n",
       "      <th>(14000.0, 20000.0]</th>\n",
       "      <td>71251</td>\n",
       "      <td>1359</td>\n",
       "      <td>72610</td>\n",
       "      <td>0.246314</td>\n",
       "      <td>0.247271</td>\n",
       "      <td>-0.003877</td>\n",
       "      <td>0.000004</td>\n",
       "    </tr>\n",
       "    <tr>\n",
       "      <th>(20000.0, 35000.0]</th>\n",
       "      <td>70632</td>\n",
       "      <td>1347</td>\n",
       "      <td>71979</td>\n",
       "      <td>0.244174</td>\n",
       "      <td>0.245087</td>\n",
       "      <td>-0.003733</td>\n",
       "      <td>0.000003</td>\n",
       "    </tr>\n",
       "    <tr>\n",
       "      <th>All</th>\n",
       "      <td>289269</td>\n",
       "      <td>5496</td>\n",
       "      <td>294765</td>\n",
       "      <td>1.000000</td>\n",
       "      <td>1.000000</td>\n",
       "      <td>0.000000</td>\n",
       "      <td>0.000000</td>\n",
       "    </tr>\n",
       "  </tbody>\n",
       "</table>\n",
       "</div>"
      ],
      "text/plain": [
       "30+DPD                   0     1     All    p_good     p_bad       WOE  \\\n",
       "loan_amnt_bin                                                            \n",
       "(999.999, 8500.0]    72659  1318   73977  0.251181  0.239811  0.046325   \n",
       "(8500.0, 14000.0]    74727  1472   76199  0.258330  0.267831 -0.036117   \n",
       "(14000.0, 20000.0]   71251  1359   72610  0.246314  0.247271 -0.003877   \n",
       "(20000.0, 35000.0]   70632  1347   71979  0.244174  0.245087 -0.003733   \n",
       "All                 289269  5496  294765  1.000000  1.000000  0.000000   \n",
       "\n",
       "30+DPD              contribution  \n",
       "loan_amnt_bin                     \n",
       "(999.999, 8500.0]       0.000527  \n",
       "(8500.0, 14000.0]       0.000343  \n",
       "(14000.0, 20000.0]      0.000004  \n",
       "(20000.0, 35000.0]      0.000003  \n",
       "All                     0.000000  "
      ]
     },
     "execution_count": 85,
     "metadata": {},
     "output_type": "execute_result"
    }
   ],
   "source": [
    "# Define the crosstab\n",
    "crosstab_emp_length_bin = crosstab_list[0]\n",
    "\n",
    "crosstab_emp_length_bin"
   ]
  },
  {
   "cell_type": "code",
   "execution_count": 86,
   "id": "046b2a3b-6399-45b8-ac67-65656a2de882",
   "metadata": {},
   "outputs": [
    {
     "data": {
      "image/png": "[encoded data removed]",
      "text/plain": [
       "<Figure size 800x400 with 1 Axes>"
      ]
     },
     "metadata": {},
     "output_type": "display_data"
    }
   ],
   "source": [
    "# Plot the WOE\n",
    "plot_WOE(crosstab_emp_length_bin)"
   ]
  },
  {
   "cell_type": "markdown",
   "id": "ceb6818b-76ed-4bc9-abd6-40fdc3669bcd",
   "metadata": {},
   "source": [
    "#### Characteristic 2: loan_amnt_bin\n",
    "---"
   ]
  },
  {
   "cell_type": "code",
   "execution_count": 87,
   "id": "00d264f7-62cb-439a-a47c-2c1b59aff3af",
   "metadata": {},
   "outputs": [
    {
     "data": {
      "text/html": [
       "<div>\n",
       "<style scoped>\n",
       "    .dataframe tbody tr th:only-of-type {\n",
       "        vertical-align: middle;\n",
       "    }\n",
       "\n",
       "    .dataframe tbody tr th {\n",
       "        vertical-align: top;\n",
       "    }\n",
       "\n",
       "    .dataframe thead th {\n",
       "        text-align: right;\n",
       "    }\n",
       "</style>\n",
       "<table border=\"1\" class=\"dataframe\">\n",
       "  <thead>\n",
       "    <tr style=\"text-align: right;\">\n",
       "      <th>30+DPD</th>\n",
       "      <th>0</th>\n",
       "      <th>1</th>\n",
       "      <th>All</th>\n",
       "      <th>p_good</th>\n",
       "      <th>p_bad</th>\n",
       "      <th>WOE</th>\n",
       "      <th>contribution</th>\n",
       "    </tr>\n",
       "    <tr>\n",
       "      <th>loan_amnt_bin</th>\n",
       "      <th></th>\n",
       "      <th></th>\n",
       "      <th></th>\n",
       "      <th></th>\n",
       "      <th></th>\n",
       "      <th></th>\n",
       "      <th></th>\n",
       "    </tr>\n",
       "  </thead>\n",
       "  <tbody>\n",
       "    <tr>\n",
       "      <th>(999.999, 8500.0]</th>\n",
       "      <td>72659</td>\n",
       "      <td>1318</td>\n",
       "      <td>73977</td>\n",
       "      <td>0.251181</td>\n",
       "      <td>0.239811</td>\n",
       "      <td>0.046325</td>\n",
       "      <td>0.000527</td>\n",
       "    </tr>\n",
       "    <tr>\n",
       "      <th>(8500.0, 14000.0]</th>\n",
       "      <td>74727</td>\n",
       "      <td>1472</td>\n",
       "      <td>76199</td>\n",
       "      <td>0.258330</td>\n",
       "      <td>0.267831</td>\n",
       "      <td>-0.036117</td>\n",
       "      <td>0.000343</td>\n",
       "    </tr>\n",
       "    <tr>\n",
       "      <th>(14000.0, 20000.0]</th>\n",
       "      <td>71251</td>\n",
       "      <td>1359</td>\n",
       "      <td>72610</td>\n",
       "      <td>0.246314</td>\n",
       "      <td>0.247271</td>\n",
       "      <td>-0.003877</td>\n",
       "      <td>0.000004</td>\n",
       "    </tr>\n",
       "    <tr>\n",
       "      <th>(20000.0, 35000.0]</th>\n",
       "      <td>70632</td>\n",
       "      <td>1347</td>\n",
       "      <td>71979</td>\n",
       "      <td>0.244174</td>\n",
       "      <td>0.245087</td>\n",
       "      <td>-0.003733</td>\n",
       "      <td>0.000003</td>\n",
       "    </tr>\n",
       "    <tr>\n",
       "      <th>All</th>\n",
       "      <td>289269</td>\n",
       "      <td>5496</td>\n",
       "      <td>294765</td>\n",
       "      <td>1.000000</td>\n",
       "      <td>1.000000</td>\n",
       "      <td>0.000000</td>\n",
       "      <td>0.000000</td>\n",
       "    </tr>\n",
       "  </tbody>\n",
       "</table>\n",
       "</div>"
      ],
      "text/plain": [
       "30+DPD                   0     1     All    p_good     p_bad       WOE  \\\n",
       "loan_amnt_bin                                                            \n",
       "(999.999, 8500.0]    72659  1318   73977  0.251181  0.239811  0.046325   \n",
       "(8500.0, 14000.0]    74727  1472   76199  0.258330  0.267831 -0.036117   \n",
       "(14000.0, 20000.0]   71251  1359   72610  0.246314  0.247271 -0.003877   \n",
       "(20000.0, 35000.0]   70632  1347   71979  0.244174  0.245087 -0.003733   \n",
       "All                 289269  5496  294765  1.000000  1.000000  0.000000   \n",
       "\n",
       "30+DPD              contribution  \n",
       "loan_amnt_bin                     \n",
       "(999.999, 8500.0]       0.000527  \n",
       "(8500.0, 14000.0]       0.000343  \n",
       "(14000.0, 20000.0]      0.000004  \n",
       "(20000.0, 35000.0]      0.000003  \n",
       "All                     0.000000  "
      ]
     },
     "execution_count": 87,
     "metadata": {},
     "output_type": "execute_result"
    }
   ],
   "source": [
    "# Define the crosstab\n",
    "crosstab_loan_amnt = crosstab_list[0]\n",
    "\n",
    "crosstab_loan_amnt"
   ]
  },
  {
   "cell_type": "code",
   "execution_count": 71,
   "id": "00ee8aa1-61ee-43a3-adae-66d84476424b",
   "metadata": {},
   "outputs": [
    {
     "data": {
      "image/png": "[encoded data removed]",
      "text/plain": [
       "<Figure size 800x400 with 1 Axes>"
      ]
     },
     "metadata": {},
     "output_type": "display_data"
    }
   ],
   "source": [
    "# Plot the WOE\n",
    "plot_WOE(crosstab_loan_amnt)"
   ]
  },
  {
   "cell_type": "markdown",
   "id": "f065ab9a-2ba4-41dc-b16c-3173b63d2d2f",
   "metadata": {},
   "source": [
    "The medium loan amount category has a slightly lower risk of default compared to the other categories"
   ]
  },
  {
   "cell_type": "markdown",
   "id": "cb668807-2dfc-4ac1-b5ed-11aa5f73bc33",
   "metadata": {},
   "source": [
    "#### Characteristic 3: term_bin\n",
    "---"
   ]
  },
  {
   "cell_type": "code",
   "execution_count": 88,
   "id": "5293d2fb-77e0-49c2-8170-6a296933e2b1",
   "metadata": {},
   "outputs": [
    {
     "data": {
      "text/html": [
       "<div>\n",
       "<style scoped>\n",
       "    .dataframe tbody tr th:only-of-type {\n",
       "        vertical-align: middle;\n",
       "    }\n",
       "\n",
       "    .dataframe tbody tr th {\n",
       "        vertical-align: top;\n",
       "    }\n",
       "\n",
       "    .dataframe thead th {\n",
       "        text-align: right;\n",
       "    }\n",
       "</style>\n",
       "<table border=\"1\" class=\"dataframe\">\n",
       "  <thead>\n",
       "    <tr style=\"text-align: right;\">\n",
       "      <th>30+DPD</th>\n",
       "      <th>0</th>\n",
       "      <th>1</th>\n",
       "      <th>All</th>\n",
       "      <th>p_good</th>\n",
       "      <th>p_bad</th>\n",
       "      <th>WOE</th>\n",
       "      <th>contribution</th>\n",
       "    </tr>\n",
       "    <tr>\n",
       "      <th>loan_amnt_bin</th>\n",
       "      <th></th>\n",
       "      <th></th>\n",
       "      <th></th>\n",
       "      <th></th>\n",
       "      <th></th>\n",
       "      <th></th>\n",
       "      <th></th>\n",
       "    </tr>\n",
       "  </thead>\n",
       "  <tbody>\n",
       "    <tr>\n",
       "      <th>(999.999, 8500.0]</th>\n",
       "      <td>72659</td>\n",
       "      <td>1318</td>\n",
       "      <td>73977</td>\n",
       "      <td>0.251181</td>\n",
       "      <td>0.239811</td>\n",
       "      <td>0.046325</td>\n",
       "      <td>0.000527</td>\n",
       "    </tr>\n",
       "    <tr>\n",
       "      <th>(8500.0, 14000.0]</th>\n",
       "      <td>74727</td>\n",
       "      <td>1472</td>\n",
       "      <td>76199</td>\n",
       "      <td>0.258330</td>\n",
       "      <td>0.267831</td>\n",
       "      <td>-0.036117</td>\n",
       "      <td>0.000343</td>\n",
       "    </tr>\n",
       "    <tr>\n",
       "      <th>(14000.0, 20000.0]</th>\n",
       "      <td>71251</td>\n",
       "      <td>1359</td>\n",
       "      <td>72610</td>\n",
       "      <td>0.246314</td>\n",
       "      <td>0.247271</td>\n",
       "      <td>-0.003877</td>\n",
       "      <td>0.000004</td>\n",
       "    </tr>\n",
       "    <tr>\n",
       "      <th>(20000.0, 35000.0]</th>\n",
       "      <td>70632</td>\n",
       "      <td>1347</td>\n",
       "      <td>71979</td>\n",
       "      <td>0.244174</td>\n",
       "      <td>0.245087</td>\n",
       "      <td>-0.003733</td>\n",
       "      <td>0.000003</td>\n",
       "    </tr>\n",
       "    <tr>\n",
       "      <th>All</th>\n",
       "      <td>289269</td>\n",
       "      <td>5496</td>\n",
       "      <td>294765</td>\n",
       "      <td>1.000000</td>\n",
       "      <td>1.000000</td>\n",
       "      <td>0.000000</td>\n",
       "      <td>0.000000</td>\n",
       "    </tr>\n",
       "  </tbody>\n",
       "</table>\n",
       "</div>"
      ],
      "text/plain": [
       "30+DPD                   0     1     All    p_good     p_bad       WOE  \\\n",
       "loan_amnt_bin                                                            \n",
       "(999.999, 8500.0]    72659  1318   73977  0.251181  0.239811  0.046325   \n",
       "(8500.0, 14000.0]    74727  1472   76199  0.258330  0.267831 -0.036117   \n",
       "(14000.0, 20000.0]   71251  1359   72610  0.246314  0.247271 -0.003877   \n",
       "(20000.0, 35000.0]   70632  1347   71979  0.244174  0.245087 -0.003733   \n",
       "All                 289269  5496  294765  1.000000  1.000000  0.000000   \n",
       "\n",
       "30+DPD              contribution  \n",
       "loan_amnt_bin                     \n",
       "(999.999, 8500.0]       0.000527  \n",
       "(8500.0, 14000.0]       0.000343  \n",
       "(14000.0, 20000.0]      0.000004  \n",
       "(20000.0, 35000.0]      0.000003  \n",
       "All                     0.000000  "
      ]
     },
     "execution_count": 88,
     "metadata": {},
     "output_type": "execute_result"
    }
   ],
   "source": [
    "# Define the crosstab\n",
    "crosstab_term_bin = crosstab_list[0]\n",
    "\n",
    "crosstab_term_bin"
   ]
  },
  {
   "cell_type": "code",
   "execution_count": 89,
   "id": "18b177b8-4058-4461-b05e-5eb9536841a7",
   "metadata": {},
   "outputs": [
    {
     "data": {
      "image/png": "[encoded data removed]",
      "text/plain": [
       "<Figure size 800x400 with 1 Axes>"
      ]
     },
     "metadata": {},
     "output_type": "display_data"
    }
   ],
   "source": [
    "# Plot the WOE\n",
    "plot_WOE(crosstab_term_bin)"
   ]
  },
  {
   "cell_type": "markdown",
   "id": "783332f0-8f59-4210-99b3-be0e5b6c8fac",
   "metadata": {},
   "source": [
    "### **5.4 Test of Independence**\n",
    "---"
   ]
  },
  {
   "cell_type": "markdown",
   "id": "563e4f5e-07b3-4481-93c5-ff9d6f869ee0",
   "metadata": {},
   "source": [
    "- Assume that the WOE for each attribute in all characteristics supports the logical trend and operational/business sense.\n",
    "- Then, we can check the strength of each characteristic as a predictor of credit performance by its Information Value (IV)."
   ]
  },
  {
   "cell_type": "code",
   "execution_count": 91,
   "id": "bd9030c2-5e27-4a88-b733-db1de4b7e4ac",
   "metadata": {},
   "outputs": [
    {
     "data": {
      "text/html": [
       "<div>\n",
       "<style scoped>\n",
       "    .dataframe tbody tr th:only-of-type {\n",
       "        vertical-align: middle;\n",
       "    }\n",
       "\n",
       "    .dataframe tbody tr th {\n",
       "        vertical-align: top;\n",
       "    }\n",
       "\n",
       "    .dataframe thead th {\n",
       "        text-align: right;\n",
       "    }\n",
       "</style>\n",
       "<table border=\"1\" class=\"dataframe\">\n",
       "  <thead>\n",
       "    <tr style=\"text-align: right;\">\n",
       "      <th></th>\n",
       "      <th>Characteristic</th>\n",
       "      <th>Information Value</th>\n",
       "      <th>Strength</th>\n",
       "    </tr>\n",
       "  </thead>\n",
       "  <tbody>\n",
       "    <tr>\n",
       "      <th>0</th>\n",
       "      <td>loan_amnt_bin</td>\n",
       "      <td>0.000877</td>\n",
       "      <td>Unpredictive</td>\n",
       "    </tr>\n",
       "    <tr>\n",
       "      <th>1</th>\n",
       "      <td>term_bin</td>\n",
       "      <td>0.000000</td>\n",
       "      <td>Unpredictive</td>\n",
       "    </tr>\n",
       "    <tr>\n",
       "      <th>2</th>\n",
       "      <td>int_rate_bin</td>\n",
       "      <td>0.633636</td>\n",
       "      <td>Strong</td>\n",
       "    </tr>\n",
       "    <tr>\n",
       "      <th>3</th>\n",
       "      <td>emp_length_bin</td>\n",
       "      <td>0.011047</td>\n",
       "      <td>Unpredictive</td>\n",
       "    </tr>\n",
       "    <tr>\n",
       "      <th>4</th>\n",
       "      <td>annual_inc_bin</td>\n",
       "      <td>0.033892</td>\n",
       "      <td>Weak</td>\n",
       "    </tr>\n",
       "    <tr>\n",
       "      <th>5</th>\n",
       "      <td>dti_bin</td>\n",
       "      <td>0.044300</td>\n",
       "      <td>Weak</td>\n",
       "    </tr>\n",
       "    <tr>\n",
       "      <th>6</th>\n",
       "      <td>grade</td>\n",
       "      <td>0.661237</td>\n",
       "      <td>Strong</td>\n",
       "    </tr>\n",
       "    <tr>\n",
       "      <th>7</th>\n",
       "      <td>home_ownership</td>\n",
       "      <td>0.043907</td>\n",
       "      <td>Weak</td>\n",
       "    </tr>\n",
       "    <tr>\n",
       "      <th>8</th>\n",
       "      <td>purpose</td>\n",
       "      <td>0.066179</td>\n",
       "      <td>Weak</td>\n",
       "    </tr>\n",
       "  </tbody>\n",
       "</table>\n",
       "</div>"
      ],
      "text/plain": [
       "   Characteristic  Information Value      Strength\n",
       "0   loan_amnt_bin           0.000877  Unpredictive\n",
       "1        term_bin           0.000000  Unpredictive\n",
       "2    int_rate_bin           0.633636        Strong\n",
       "3  emp_length_bin           0.011047  Unpredictive\n",
       "4  annual_inc_bin           0.033892          Weak\n",
       "5         dti_bin           0.044300          Weak\n",
       "6           grade           0.661237        Strong\n",
       "7  home_ownership           0.043907          Weak\n",
       "8         purpose           0.066179          Weak"
      ]
     },
     "execution_count": 91,
     "metadata": {},
     "output_type": "execute_result"
    }
   ],
   "source": [
    "# Display the IV Table\n",
    "IV_table"
   ]
  },
  {
   "cell_type": "markdown",
   "id": "2f739762-9f18-4b25-9346-6fef122e1b12",
   "metadata": {},
   "source": [
    "The predictive power of characteristics varies from unpredictive to strong.\n",
    "\n",
    "Next, we check the dependency between each characteristic and the response variable `30+DPD` before modeling.\n",
    "- To check whether the unpredictive and weak characteristic is independent of the probability of default."
   ]
  },
  {
   "cell_type": "code",
   "execution_count": 93,
   "id": "bcb7fc2a-1bfb-4c2b-b78a-173a3320dea9",
   "metadata": {},
   "outputs": [],
   "source": [
    "# Define a list of all characteristics\n",
    "characteristic_list = IV_table['Characteristic']"
   ]
  },
  {
   "cell_type": "markdown",
   "id": "8019bd41-8caf-4739-9b6c-2aeba97df573",
   "metadata": {},
   "source": [
    "Create a funtion to perform independence test."
   ]
  },
  {
   "cell_type": "markdown",
   "id": "7b09e9d3-bc79-48fd-9a49-fdfe6d2bc021",
   "metadata": {},
   "source": [
    "- **Null Hypothesis:** The characteristic and response variable is independent.\n",
    "- **Alternative Hypothesis:** The characteristic and response variable is not independent.\n",
    "- **Test Statistic:**\n",
    "  - Pearson Chi-squared Statistic\n",
    "\n",
    "  $$\n",
    "  \\chi ^{2}=\\sum \\frac{(n_{ij}-\\mu _{ij})^{2}}{\\mu _{ij}}\n",
    "  $$\n",
    "  where\n",
    "  $$\n",
    "  \\mu _{ij}=\\frac{(n_{i+})(n_{+j})}{n}\n",
    "  $$\n",
    "\n",
    "  - degrees of freedom = $(I-1) \\times (J-1)$\n",
    "- **Rejection Region:**\n",
    "\n",
    "$$\n",
    "\\begin{align*}\n",
    "\\chi^{2} &> \\chi^{2}_{\\alpha} \\\\\n",
    "&\\text{or} \\\\\n",
    "P_{\\text{value}} &< \\alpha\n",
    "\\end{align*}\n",
    "$$\n"
   ]
  },
  {
   "cell_type": "code",
   "execution_count": 95,
   "id": "ec33cd20-a3ed-4db6-82b0-d422658d89e8",
   "metadata": {},
   "outputs": [],
   "source": [
    "# Import the libraries\n",
    "import scipy.stats as stats\n",
    "from scipy.stats import chi2_contingency\n",
    "\n",
    "# Create a function of independence test\n",
    "def independence_test(data, characteristic_label, alpha=0.05):\n",
    "    \"\"\"\n",
    "    Funtion to perform the independence test.\n",
    "\n",
    "    Parameters\n",
    "    ----------\n",
    "    data : array like\n",
    "      The name of dataset.\n",
    "\n",
    "    characteristic_label : object\n",
    "      The label of characteristic variable.\n",
    "\n",
    "    alpha : float in range[0,1], default = 0.05\n",
    "      Probability of Type I Error (reject H0 when H0 is true).\n",
    "\n",
    "    Return\n",
    "    ------\n",
    "    res : dataframe\n",
    "      The summary result of the independence test.\n",
    "\n",
    "    \"\"\"\n",
    "    # Build the contingency table\n",
    "    crosstab = pd.crosstab(data[characteristic_label],\n",
    "                           data[response_variable],\n",
    "                           margins = False)\n",
    "\n",
    "    # Test whether churn is independent of the predictor\n",
    "    stats.chi2_contingency(crosstab)\n",
    "\n",
    "    # Result of independence test\n",
    "    result = stats.chi2_contingency(crosstab)\n",
    "\n",
    "    # Extract the test result\n",
    "    stat = result[0]\n",
    "    pval = result[1]\n",
    "\n",
    "    # Print the conclusion\n",
    "    if pval < alpha:\n",
    "        conclusion = 'Not Independent'\n",
    "    else:\n",
    "        conclusion = 'Independent'\n",
    "\n",
    "    # Tabulate the results\n",
    "    res = pd.DataFrame({'Characteristic': characteristic_label,\n",
    "                        'Chi-stat': round(stat,2),\n",
    "                        'P-value': pval,\n",
    "                        'Conclusion': conclusion},\n",
    "                       index=[0])\n",
    "\n",
    "    return res"
   ]
  },
  {
   "cell_type": "code",
   "execution_count": 97,
   "id": "c9732197-d019-4154-8d00-10e38f554ad9",
   "metadata": {},
   "outputs": [
    {
     "name": "stderr",
     "output_type": "stream",
     "text": [
      "/tmp/ipykernel_5384/1920831478.py:22: FutureWarning: The frame.append method is deprecated and will be removed from pandas in a future version. Use pandas.concat instead.\n",
      "  ind_table = ind_table.append(independence_list,\n"
     ]
    },
    {
     "data": {
      "text/html": [
       "<div>\n",
       "<style scoped>\n",
       "    .dataframe tbody tr th:only-of-type {\n",
       "        vertical-align: middle;\n",
       "    }\n",
       "\n",
       "    .dataframe tbody tr th {\n",
       "        vertical-align: top;\n",
       "    }\n",
       "\n",
       "    .dataframe thead th {\n",
       "        text-align: right;\n",
       "    }\n",
       "</style>\n",
       "<table border=\"1\" class=\"dataframe\">\n",
       "  <thead>\n",
       "    <tr style=\"text-align: right;\">\n",
       "      <th></th>\n",
       "      <th>Characteristic</th>\n",
       "      <th>Chi-stat</th>\n",
       "      <th>P-value</th>\n",
       "      <th>Conclusion</th>\n",
       "    </tr>\n",
       "  </thead>\n",
       "  <tbody>\n",
       "    <tr>\n",
       "      <th>0</th>\n",
       "      <td>loan_amnt_bin</td>\n",
       "      <td>4.70</td>\n",
       "      <td>1.951055e-01</td>\n",
       "      <td>Independent</td>\n",
       "    </tr>\n",
       "    <tr>\n",
       "      <th>1</th>\n",
       "      <td>term_bin</td>\n",
       "      <td>0.00</td>\n",
       "      <td>1.000000e+00</td>\n",
       "      <td>Independent</td>\n",
       "    </tr>\n",
       "    <tr>\n",
       "      <th>2</th>\n",
       "      <td>int_rate_bin</td>\n",
       "      <td>3206.58</td>\n",
       "      <td>0.000000e+00</td>\n",
       "      <td>Not Independent</td>\n",
       "    </tr>\n",
       "    <tr>\n",
       "      <th>3</th>\n",
       "      <td>emp_length_bin</td>\n",
       "      <td>56.27</td>\n",
       "      <td>6.028864e-13</td>\n",
       "      <td>Not Independent</td>\n",
       "    </tr>\n",
       "    <tr>\n",
       "      <th>4</th>\n",
       "      <td>annual_inc_bin</td>\n",
       "      <td>184.84</td>\n",
       "      <td>7.963236e-40</td>\n",
       "      <td>Not Independent</td>\n",
       "    </tr>\n",
       "    <tr>\n",
       "      <th>5</th>\n",
       "      <td>dti_bin</td>\n",
       "      <td>255.90</td>\n",
       "      <td>3.458077e-55</td>\n",
       "      <td>Not Independent</td>\n",
       "    </tr>\n",
       "    <tr>\n",
       "      <th>6</th>\n",
       "      <td>grade</td>\n",
       "      <td>3869.12</td>\n",
       "      <td>0.000000e+00</td>\n",
       "      <td>Not Independent</td>\n",
       "    </tr>\n",
       "    <tr>\n",
       "      <th>7</th>\n",
       "      <td>home_ownership</td>\n",
       "      <td>236.68</td>\n",
       "      <td>4.970555e-51</td>\n",
       "      <td>Not Independent</td>\n",
       "    </tr>\n",
       "    <tr>\n",
       "      <th>8</th>\n",
       "      <td>purpose</td>\n",
       "      <td>368.61</td>\n",
       "      <td>9.354184e-71</td>\n",
       "      <td>Not Independent</td>\n",
       "    </tr>\n",
       "  </tbody>\n",
       "</table>\n",
       "</div>"
      ],
      "text/plain": [
       "   Characteristic  Chi-stat       P-value       Conclusion\n",
       "0   loan_amnt_bin      4.70  1.951055e-01      Independent\n",
       "1        term_bin      0.00  1.000000e+00      Independent\n",
       "2    int_rate_bin   3206.58  0.000000e+00  Not Independent\n",
       "3  emp_length_bin     56.27  6.028864e-13  Not Independent\n",
       "4  annual_inc_bin    184.84  7.963236e-40  Not Independent\n",
       "5         dti_bin    255.90  3.458077e-55  Not Independent\n",
       "6           grade   3869.12  0.000000e+00  Not Independent\n",
       "7  home_ownership    236.68  4.970555e-51  Not Independent\n",
       "8         purpose    368.61  9.354184e-71  Not Independent"
      ]
     },
     "execution_count": 97,
     "metadata": {},
     "output_type": "execute_result"
    }
   ],
   "source": [
    "# Define initial table to summarize the test result\n",
    "ind_table = pd.DataFrame({'Characteristic': [],\n",
    "                        'Chi-stat': [],\n",
    "                        'P-value': [],\n",
    "                        'Conclusion': []})\n",
    "\n",
    "# Define initial list to store the test result\n",
    "independence_list = []\n",
    "\n",
    "# Perform independence test for all characteristics\n",
    "for characteristic in characteristic_list:\n",
    "\n",
    "  # Perform the independence test\n",
    "  test_result = independence_test(data = data_train_filtered_binned,\n",
    "                                  characteristic_label = characteristic,\n",
    "                                  alpha = 0.05)\n",
    "\n",
    "  # Append test result to the list\n",
    "  independence_list.append(test_result)\n",
    "\n",
    "# Append the list of test results to the table\n",
    "ind_table = ind_table.append(independence_list,\n",
    "                             ignore_index = True)\n",
    "ind_table"
   ]
  },
  {
   "cell_type": "markdown",
   "id": "5c680601-156f-4bb1-8e76-72f6ea507b78",
   "metadata": {},
   "source": [
    "- Of all characteristics, there are 3 characteristics that is independent of the response variable (probability of default).\n",
    "- This information can be valuable for understanding which factors may influence the likelihood of default in the dataset."
   ]
  }
 ],
 "metadata": {
  "kernelspec": {
   "display_name": "Python (python3)",
   "language": "python",
   "name": "python3"
  },
  "language_info": {
   "codemirror_mode": {
    "name": "ipython",
    "version": 3
   },
   "file_extension": ".py",
   "mimetype": "text/x-python",
   "name": "python",
   "nbconvert_exporter": "python",
   "pygments_lexer": "ipython3",
   "version": "3.11.0"
  }
 },
 "nbformat": 4,
 "nbformat_minor": 5
}
